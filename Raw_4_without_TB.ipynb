{
  "nbformat": 4,
  "nbformat_minor": 0,
  "metadata": {
    "colab": {
      "name": "Raw_4.ipynb",
      "version": "0.3.2",
      "provenance": [],
      "include_colab_link": true
    },
    "kernelspec": {
      "name": "python2",
      "display_name": "Python 2"
    },
    "accelerator": "GPU"
  },
  "cells": [
    {
      "cell_type": "markdown",
      "metadata": {
        "id": "view-in-github",
        "colab_type": "text"
      },
      "source": [
        "[View in Colaboratory](https://colab.research.google.com/github/Alexasandrovich/Neural_nets/blob/master/Raw_4_without_TB.ipynb)"
      ]
    },
    {
      "metadata": {
        "id": "MSdKzfFTo62Q",
        "colab_type": "code",
        "colab": {}
      },
      "cell_type": "code",
      "source": [
        "from __future__ import print_function\n",
        "import keras\n",
        "from keras.datasets import cifar10\n",
        "from keras.preprocessing.image import ImageDataGenerator\n",
        "from keras.models import Sequential\n",
        "from keras.callbacks import TensorBoard\n",
        "from keras.callbacks import LearningRateScheduler\n",
        "from keras.layers import Dense, Dropout, Activation, Flatten\n",
        "from keras.layers import Conv2D, MaxPooling2D\n",
        "import os\n",
        "import math\n",
        "\n",
        "i=0\n",
        "batch_size = 32\n",
        "num_classes = 10\n",
        "epochs = 100\n",
        "learning_rate = 0.002\n",
        "lrat = 0.002\n",
        "decay_rate = 0.0002\n",
        "#momentum = 0.8\n",
        "data_augmentation = True\n",
        "num_predictions = 20\n",
        "model_name = 'keras_cifar.h5'"
      ],
      "execution_count": 0,
      "outputs": []
    },
    {
      "metadata": {
        "id": "CQrLPr14BNWS",
        "colab_type": "code",
        "colab": {
          "base_uri": "https://localhost:8080/",
          "height": 156
        },
        "outputId": "aace8404-b24a-4464-8fc2-d8d3187745c5"
      },
      "cell_type": "code",
      "source": [
        "!pip install -U tensorboardcolab"
      ],
      "execution_count": 5,
      "outputs": [
        {
          "output_type": "stream",
          "text": [
            "Collecting tensorboardcolab\n",
            "  Downloading https://files.pythonhosted.org/packages/73/3d/eaf745e162e471c5bb2737a407d8626fb8684a88cf085045456aeb841d3c/tensorboardcolab-0.0.19.tar.gz\n",
            "Building wheels for collected packages: tensorboardcolab\n",
            "  Running setup.py bdist_wheel for tensorboardcolab ... \u001b[?25l-\b \bdone\n",
            "\u001b[?25h  Stored in directory: /root/.cache/pip/wheels/ab/74/02/cda602d1dc28b2f12eab313c49b9bfa14d6371326bc2590e06\n",
            "Successfully built tensorboardcolab\n",
            "Installing collected packages: tensorboardcolab\n",
            "Successfully installed tensorboardcolab-0.0.19\n"
          ],
          "name": "stdout"
        }
      ]
    },
    {
      "metadata": {
        "id": "8QDxBEJ7BYw5",
        "colab_type": "code",
        "colab": {}
      },
      "cell_type": "code",
      "source": [
        "from tensorboardcolab import *\n",
        "import tensorflow as tf"
      ],
      "execution_count": 0,
      "outputs": []
    },
    {
      "metadata": {
        "id": "suCTvEHvBZe7",
        "colab_type": "code",
        "colab": {
          "base_uri": "https://localhost:8080/",
          "height": 69
        },
        "outputId": "1146dde5-0bc2-4932-fa7d-2e5d0e420e5a"
      },
      "cell_type": "code",
      "source": [
        "tbc=TensorBoardColab()"
      ],
      "execution_count": 43,
      "outputs": [
        {
          "output_type": "stream",
          "text": [
            "Wait for 8 seconds...\n",
            "TensorBoard link:\n",
            "http://329a5e8a.ngrok.io\n"
          ],
          "name": "stdout"
        }
      ]
    },
    {
      "metadata": {
        "id": "_5Le5oKM62jS",
        "colab_type": "code",
        "colab": {}
      },
      "cell_type": "code",
      "source": [
        "class LossHistory(keras.callbacks.Callback):\n",
        "  def on_train_begin(self, logs={}):\n",
        "    self.losses = [1,1]\n",
        "      \n",
        "  def on_epoch_end(self, batch, logs={}):\n",
        "    self.losses.append(logs.get('loss'))\n",
        "    sd.append(step_decay(len(self.losses)))\n",
        "    print('lr:', step_decay(len(self.losses)))\n",
        "    \n",
        "  def TensorBoardColabCallback(self):\n",
        "    global i\n",
        "    if i==0:\n",
        "      self.tbc=TensorBoardColab()\n",
        "      print(self.tbc)\n",
        "      i+=1\n",
        "    "
      ],
      "execution_count": 0,
      "outputs": []
    },
    {
      "metadata": {
        "id": "fJTqajWgjYVk",
        "colab_type": "code",
        "colab": {}
      },
      "cell_type": "code",
      "source": [
        ""
      ],
      "execution_count": 0,
      "outputs": []
    },
    {
      "metadata": {
        "id": "nfOcgeJS638a",
        "colab_type": "code",
        "colab": {
          "base_uri": "https://localhost:8080/",
          "height": 642
        },
        "outputId": "d511dde6-b228-448a-b8bb-96702cb9c736"
      },
      "cell_type": "code",
      "source": [
        "# The data, split between train and test sets:\n",
        "(x_train, y_train), (x_test, y_test) = cifar10.load_data()\n",
        "print('x_train shape:', x_train.shape)\n",
        "print(x_train.shape[0], 'train samples')\n",
        "print(x_test.shape[0], 'test samples')\n",
        "\n",
        "# Convert class vectors to binary class matrices.\n",
        "y_train = keras.utils.to_categorical(y_train, num_classes)\n",
        "y_test = keras.utils.to_categorical(y_test, num_classes)\n",
        "\n",
        "model = Sequential()\n",
        "model.add(Conv2D(32, (3, 3), padding='same',\n",
        "                 input_shape=x_train.shape[1:]))\n",
        "model.add(Activation('relu'))\n",
        "model.add(Conv2D(32, (3, 3)))\n",
        "model.add(Activation('relu'))\n",
        "model.add(MaxPooling2D(pool_size=(2, 2)))\n",
        "model.add(Dropout(0.25))\n",
        "\n",
        "model.add(Conv2D(64, (3, 3), padding='same'))\n",
        "model.add(Activation('relu'))\n",
        "model.add(Conv2D(64, (3, 3)))\n",
        "model.add(Activation('relu'))\n",
        "model.add(MaxPooling2D(pool_size=(2, 2)))\n",
        "model.add(Dropout(0.25))\n",
        "\n",
        "model.add(Flatten())\n",
        "model.add(Dense(512))\n",
        "model.add(Activation('relu'))\n",
        "model.add(Dropout(0.5))\n",
        "model.add(Dense(num_classes))\n",
        "model.add(Activation('softmax'))\n",
        "\n",
        "sd=[]\n",
        "def step_decay(epoch): \n",
        "    drop = 0.0001\n",
        "    global lrat \n",
        "    global move\n",
        "    if lrat > 0.002:\n",
        "      move = -1\n",
        "    if lrat < 0:\n",
        "      move = 1\n",
        "    if move == 1: \n",
        "      lrat = lrat + drop \n",
        "      print(lrat)\n",
        "    if move == -1:\n",
        "      lrat = lrat - drop \n",
        "      print(lrat)\n",
        "    return lrat\n",
        "  \n",
        "\n",
        "# initiate Adamax optimizer due to the best results on this DataSet and Architecture\n",
        "opt = keras.optimizers.Adamax(lr=0.002, beta_1=0.9, beta_2=0.999, epsilon=None, decay=decay_rate)\n",
        "model.compile(loss='categorical_crossentropy',\n",
        "              optimizer=opt,\n",
        "              metrics=['accuracy'])\n",
        "\n",
        "x_train = x_train.astype('float32')\n",
        "x_test = x_test.astype('float32')\n",
        "x_train /= 255\n",
        "x_test /= 255\n",
        "\n",
        "\n",
        "\n",
        "# let's view history about our lr\n",
        "# lrate = keras.callbacks.LearningRateScheduler(step_decay)\n",
        "# callbacks_list = [lrate]\n",
        "history = LossHistory()\n",
        "lrate=LearningRateScheduler(step_decay)\n",
        "\n",
        "if not data_augmentation:\n",
        "    print('Not using data augmentation.')\n",
        "    model.fit(x_train, y_train,\n",
        "              batch_size=batch_size,\n",
        "              epochs=epochs,\n",
        "              validation_data=(x_test, y_test),\n",
        "              shuffle=True)\n",
        "else:\n",
        "    print('Using real-time data augmentation.')\n",
        "    # This will do preprocessing and realtime data augmentation:\n",
        "    datagen = ImageDataGenerator(\n",
        "        featurewise_center=False,  # set input mean to 0 over the dataset\n",
        "        samplewise_center=False,  # set each sample mean to 0\n",
        "        featurewise_std_normalization=False,  # divide inputs by std of the dataset\n",
        "        samplewise_std_normalization=False,  # divide each input by its std\n",
        "        zca_whitening=False,  # apply ZCA whitening\n",
        "        rotation_range=0,  # randomly rotate images in the range (degrees, 0 to 180)\n",
        "        width_shift_range=0.1,  # randomly shift images horizontally (fraction of total width)\n",
        "        height_shift_range=0.1,  # randomly shift images vertically (fraction of total height)\n",
        "        horizontal_flip=True,  # randomly flip images\n",
        "        vertical_flip=False)  # randomly flip images\n",
        "\n",
        "    # Compute quantities required for feature-wise normalization\n",
        "    # (std, mean, and principal components if ZCA whitening is applied).\n",
        "    datagen.fit(x_train)\n",
        "\n",
        "    # Fit the model on the batches generated by datagen.flow().\n",
        "    history = model.fit_generator(datagen.flow(x_train, y_train,\n",
        "                                     batch_size=batch_size),\n",
        "                        epochs=epochs,\n",
        "                        validation_data=(x_test, y_test),\n",
        "                        workers=4,\n",
        "                        callbacks=[history])\n",
        "\n",
        "# Save model and weights\n",
        "# model_json = model.to_json()\n",
        "# with open(\"model.json\", \"w\") as json_file:\n",
        "  #  json_file.write(model_json)\n",
        "#model.save_weights(\"model.h5\")\n",
        "#print(\"Saved model to disk\")\n",
        "\n",
        "# Score trained model.\n",
        "scores = model.evaluate(x_test, y_test, verbose=1)\n",
        "print('Test loss:', scores[0])\n",
        "print('Test accuracy:', scores[1])\n",
        "print('-----------------')"
      ],
      "execution_count": 0,
      "outputs": [
        {
          "output_type": "stream",
          "text": [
            "x_train shape: (50000, 32, 32, 3)\n",
            "50000 train samples\n",
            "10000 test samples\n",
            "Using real-time data augmentation.\n",
            "Epoch 1/100\n",
            "1563/1563 [==============================] - 53s 34ms/step - loss: 1.6450 - acc: 0.3974 - val_loss: 1.2796 - val_acc: 0.5334\n",
            "0.0019\n",
            "0.0018\n",
            "lr: 0.0018\n",
            "Epoch 2/100\n",
            "1563/1563 [==============================] - 51s 33ms/step - loss: 1.3063 - acc: 0.5291 - val_loss: 1.1455 - val_acc: 0.5905\n",
            "0.0017\n",
            "0.0016\n",
            "lr: 0.0016\n",
            "Epoch 3/100\n",
            "1563/1563 [==============================] - 53s 34ms/step - loss: 1.1651 - acc: 0.5844 - val_loss: 0.9933 - val_acc: 0.6518\n",
            "0.0015\n",
            "0.0014\n",
            "lr: 0.0014\n",
            "Epoch 4/100\n",
            "1563/1563 [==============================] - 57s 37ms/step - loss: 1.0663 - acc: 0.6208 - val_loss: 0.8988 - val_acc: 0.6818\n",
            "0.0013\n",
            "0.0012\n",
            "lr: 0.0012\n",
            "Epoch 5/100\n",
            "1563/1563 [==============================] - 56s 36ms/step - loss: 1.0053 - acc: 0.6435 - val_loss: 0.8400 - val_acc: 0.7022\n",
            "0.0011\n",
            "0.001\n",
            "lr: 0.001\n",
            "Epoch 6/100\n",
            "1563/1563 [==============================] - 57s 36ms/step - loss: 0.9559 - acc: 0.6615 - val_loss: 0.8323 - val_acc: 0.7063\n",
            "0.0009\n",
            "0.0008\n",
            "lr: 0.0008\n",
            "Epoch 7/100\n",
            "1530/1563 [============================>.] - ETA: 1s - loss: 0.9216 - acc: 0.6748"
          ],
          "name": "stdout"
        }
      ]
    }
  ]
}