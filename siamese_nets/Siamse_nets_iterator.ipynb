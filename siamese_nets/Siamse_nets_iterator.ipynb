{
 "cells": [
  {
   "cell_type": "code",
   "execution_count": 6,
   "metadata": {},
   "outputs": [],
   "source": [
    "import mxnet as mx\n",
    "import numpy as np\n",
    "import cPickle\n"
   ]
  },
  {
   "cell_type": "code",
   "execution_count": 21,
   "metadata": {},
   "outputs": [
    {
     "ename": "NameError",
     "evalue": "global name 'self' is not defined",
     "output_type": "error",
     "traceback": [
      "\u001b[0;31m---------------------------------------------------------------------------\u001b[0m",
      "\u001b[0;31mNameError\u001b[0m                                 Traceback (most recent call last)",
      "\u001b[0;32m<ipython-input-21-a9586f576b50>\u001b[0m in \u001b[0;36m<module>\u001b[0;34m()\u001b[0m\n\u001b[1;32m     25\u001b[0m     \u001b[0;32mreturn\u001b[0m \u001b[0mpairs\u001b[0m\u001b[0;34m,\u001b[0m \u001b[0mlabels_pairs\u001b[0m\u001b[0;34m\u001b[0m\u001b[0m\n\u001b[1;32m     26\u001b[0m \u001b[0;34m\u001b[0m\u001b[0m\n\u001b[0;32m---> 27\u001b[0;31m \u001b[0;32mclass\u001b[0m \u001b[0mPairDataIter\u001b[0m\u001b[0;34m(\u001b[0m\u001b[0mmx\u001b[0m\u001b[0;34m.\u001b[0m\u001b[0mio\u001b[0m\u001b[0;34m.\u001b[0m\u001b[0mDataIter\u001b[0m\u001b[0;34m)\u001b[0m\u001b[0;34m:\u001b[0m\u001b[0;34m\u001b[0m\u001b[0m\n\u001b[0m\u001b[1;32m     28\u001b[0m     \u001b[0;32mdef\u001b[0m \u001b[0m__init__\u001b[0m\u001b[0;34m(\u001b[0m\u001b[0mself\u001b[0m\u001b[0;34m,\u001b[0m \u001b[0mbatch_size\u001b[0m\u001b[0;34m,\u001b[0m \u001b[0mmode\u001b[0m\u001b[0;34m=\u001b[0m\u001b[0;34m'train'\u001b[0m\u001b[0;34m)\u001b[0m\u001b[0;34m:\u001b[0m\u001b[0;34m\u001b[0m\u001b[0m\n\u001b[1;32m     29\u001b[0m         \u001b[0msuper\u001b[0m\u001b[0;34m(\u001b[0m\u001b[0mPairDataIter\u001b[0m\u001b[0;34m)\u001b[0m\u001b[0;34m.\u001b[0m\u001b[0m__init__\u001b[0m\u001b[0;34m(\u001b[0m\u001b[0;34m)\u001b[0m \u001b[0;31m#зачем здесь множественное населдование?\u001b[0m\u001b[0;34m\u001b[0m\u001b[0m\n",
      "\u001b[0;32m<ipython-input-21-a9586f576b50>\u001b[0m in \u001b[0;36mPairDataIter\u001b[0;34m()\u001b[0m\n\u001b[1;32m     59\u001b[0m     \u001b[0mpath\u001b[0m\u001b[0;34m=\u001b[0m\u001b[0;34m\"/home/alex/Документы/formxnet/cifar-10-batches-py/\"\u001b[0m\u001b[0;34m\u001b[0m\u001b[0m\n\u001b[1;32m     60\u001b[0m \u001b[0;34m\u001b[0m\u001b[0m\n\u001b[0;32m---> 61\u001b[0;31m     \u001b[0mtraining_data\u001b[0m\u001b[0;34m,\u001b[0m \u001b[0mtraining_label\u001b[0m \u001b[0;34m=\u001b[0m \u001b[0mload_cifar\u001b[0m\u001b[0;34m(\u001b[0m\u001b[0mpath\u001b[0m\u001b[0;34m)\u001b[0m\u001b[0;34m\u001b[0m\u001b[0m\n\u001b[0m\u001b[1;32m     62\u001b[0m \u001b[0;34m\u001b[0m\u001b[0m\n\u001b[1;32m     63\u001b[0m     \u001b[0mvalid_data\u001b[0m\u001b[0;34m,\u001b[0m \u001b[0mvalid_label\u001b[0m \u001b[0;34m=\u001b[0m \u001b[0mextractImagesAndLabels\u001b[0m\u001b[0;34m(\u001b[0m\u001b[0mpath\u001b[0m\u001b[0;34m,\u001b[0m \u001b[0;34m\"test_batch\"\u001b[0m\u001b[0;34m)\u001b[0m\u001b[0;34m\u001b[0m\u001b[0m\n",
      "\u001b[0;32m<ipython-input-21-a9586f576b50>\u001b[0m in \u001b[0;36mload_cifar\u001b[0;34m(path)\u001b[0m\n\u001b[1;32m     48\u001b[0m         \u001b[0mtraining_label\u001b[0m\u001b[0;34m=\u001b[0m\u001b[0;34m[\u001b[0m\u001b[0;34m]\u001b[0m\u001b[0;34m\u001b[0m\u001b[0m\n\u001b[1;32m     49\u001b[0m         \u001b[0;32mfor\u001b[0m \u001b[0mf\u001b[0m \u001b[0;32min\u001b[0m \u001b[0;34m(\u001b[0m\u001b[0;34m\"data_batch_1\"\u001b[0m\u001b[0;34m,\u001b[0m \u001b[0;34m\"data_batch_2\"\u001b[0m\u001b[0;34m,\u001b[0m \u001b[0;34m\"data_batch_3\"\u001b[0m\u001b[0;34m,\u001b[0m \u001b[0;34m\"data_batch_4\"\u001b[0m\u001b[0;34m,\u001b[0m \u001b[0;34m\"data_batch_5\"\u001b[0m\u001b[0;34m)\u001b[0m\u001b[0;34m:\u001b[0m\u001b[0;34m\u001b[0m\u001b[0m\n\u001b[0;32m---> 50\u001b[0;31m             \u001b[0mimgarray\u001b[0m\u001b[0;34m,\u001b[0m \u001b[0mlblarray\u001b[0m \u001b[0;34m=\u001b[0m \u001b[0mself\u001b[0m\u001b[0;34m.\u001b[0m\u001b[0mextractImagesAndLabels\u001b[0m\u001b[0;34m(\u001b[0m\u001b[0mpath\u001b[0m\u001b[0;34m,\u001b[0m \u001b[0mf\u001b[0m\u001b[0;34m)\u001b[0m\u001b[0;34m\u001b[0m\u001b[0m\n\u001b[0m\u001b[1;32m     51\u001b[0m             \u001b[0;32mif\u001b[0m \u001b[0;32mnot\u001b[0m \u001b[0mtraining_data\u001b[0m\u001b[0;34m:\u001b[0m\u001b[0;34m\u001b[0m\u001b[0m\n\u001b[1;32m     52\u001b[0m                 \u001b[0mtraining_data\u001b[0m \u001b[0;34m=\u001b[0m \u001b[0mimgarray\u001b[0m\u001b[0;34m\u001b[0m\u001b[0m\n",
      "\u001b[0;31mNameError\u001b[0m: global name 'self' is not defined"
     ]
    }
   ],
   "source": [
    "def make_def_pairs(data, labels, num_pairs, image_shape):\n",
    "    pairs = np.zeros((num_pairs, 2, image_shape[0], image_shape[1],\n",
    "                     image_shape[2])) # зачем двум картинкам 3 размера?\n",
    "    labels_pairs = np.zeros(num_pairs)\n",
    "    num_same = 0 \n",
    "    num_dif = 0\n",
    "    k = 0\n",
    "    \n",
    "    while k < num_pairs: # благодаря этой штуке мы вычлиняем из нашего batch любые две пары с их labels, верно? \n",
    "        first_index = np.random.randint(data.shape[0])\n",
    "        second_index = np.random.randint(data.shape[0])\n",
    "        same = labels[first_index] == labels[second_index]\n",
    "        if same and num_same < num_pairs/2:\n",
    "            pairs[k,0] = data[first_index]\n",
    "            pairs[k,1] = data[second_index]\n",
    "            labels_pairs[k] = 1\n",
    "            num_same += 1\n",
    "            k+=1\n",
    "        elif not same and num_dif < num_pairs/2:\n",
    "            pairs[k,0]=data[first_index]\n",
    "            pairs[k,1]=data[second_index]\n",
    "            labels_pairs[k]=0\n",
    "            num_dif += 1\n",
    "            k+=1\n",
    "    return pairs, labels_pairs\n",
    "\n",
    "class PairDataIter(mx.io.DataIter):\n",
    "    def __init__(self, batch_size, mode='train'):\n",
    "        super(PairDataIter).__init__() #зачем здесь множественное населдование? \n",
    "        assert mode in ['train', 'val'] # какая проверка условия здесь идёт? \n",
    "        self.batch_size = batch_size\n",
    "        self.provide_data = [('data_a', (batch_size, 3, 32, 32)), \n",
    "                            ('data_b', (batch_size, 3, 32, 32))]\n",
    "        # Здесь мог быть ваш итератор для cifar-10\n",
    "        \n",
    "    def extractImagesAndLabels(self, path, file):\n",
    "        f=open(path+file, 'rb')\n",
    "        dict=cPickle.load(f) # загрузка в словарь\n",
    "        images=dict['data']\n",
    "        images = np.reshape(images,(10000, 3,32, 32))\n",
    "        labels = dict['labels']\n",
    "        imagearray = mx.nd.array(images) # что эта шутка делает?\n",
    "        labelarray = mx.nd.array(labels)\n",
    "        return imagearray,labelarray\n",
    "        \n",
    "    def load_cifar(self, path):\n",
    "        training_data=[]\n",
    "        training_label=[]\n",
    "        for f in (\"data_batch_1\", \"data_batch_2\", \"data_batch_3\", \"data_batch_4\", \"data_batch_5\"):\n",
    "            imgarray, lblarray = extractImagesAndLabels(path, f)\n",
    "            if not training_data:\n",
    "                training_data = imgarray\n",
    "                training_label = lblarray\n",
    "            else:\n",
    "                training_data = mx.nd.concatenate([training_data, imgarray])\n",
    "                training_label = mx.nd.concatenate([training_label, lblarray])\n",
    "        return training_data, training_label\n",
    "    \n",
    "    path=\"/home/alex/Документы/formxnet/cifar-10-batches-py/\"\n",
    "    \n",
    "    training_data, training_label = load_cifar(path)\n",
    "    \n",
    "    valid_data, valid_label = extractImagesAndLabels(path, \"test_batch\")\n",
    "    \n",
    "    def next(self): # Здесь нужно сделать возвращение dataBatch, но чем они отличается от просто Batch? Гугл говорит, что это одно и то же\n",
    "        pairs = make_pairs_random(self.data, self.label, self.batch_size, \n",
    "                                  (32, 32, 3))\n",
    "        pass # зачем эта заглушка\n",
    "        return mx.io.DataBatch(\n",
    "            data=[mx.nd.array(np.moveaxis(pairs[0][:, 0], 3, 1)),\n",
    "                 mx.nd.array(np.moveaxis(pairs[0][:, 1], 3, 1))],\n",
    "            label = [mx.nd.array(pairs[1])],\n",
    "            provide_data=self.provide_data,\n",
    "            provide_label=self.provide_label        \n",
    "            )\n",
    "        "
   ]
  },
  {
   "cell_type": "code",
   "execution_count": null,
   "metadata": {},
   "outputs": [],
   "source": []
  },
  {
   "cell_type": "code",
   "execution_count": null,
   "metadata": {},
   "outputs": [],
   "source": []
  },
  {
   "cell_type": "code",
   "execution_count": null,
   "metadata": {},
   "outputs": [],
   "source": []
  }
 ],
 "metadata": {
  "kernelspec": {
   "display_name": "Python 2",
   "language": "python",
   "name": "python2"
  },
  "language_info": {
   "codemirror_mode": {
    "name": "ipython",
    "version": 2
   },
   "file_extension": ".py",
   "mimetype": "text/x-python",
   "name": "python",
   "nbconvert_exporter": "python",
   "pygments_lexer": "ipython2",
   "version": "2.7.12"
  }
 },
 "nbformat": 4,
 "nbformat_minor": 2
}
