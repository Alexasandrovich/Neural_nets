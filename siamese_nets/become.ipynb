{
 "cells": [
  {
   "cell_type": "code",
   "execution_count": 15,
   "metadata": {},
   "outputs": [
    {
     "name": "stdout",
     "output_type": "stream",
     "text": [
      "(10000L, 3L, 32L, 32L)\n",
      "(10000L,)\n",
      "['frog']\n"
     ]
    }
   ],
   "source": [
    "import mxnet as mx\n",
    "import numpy as np\n",
    "import cPickle\n",
    "import cv2\n",
    "\n",
    "def extractImagesAndLabels(path, file):\n",
    "    f = open(path+file, 'rb')\n",
    "    dict = cPickle.load(f)\n",
    "    images = dict['data']\n",
    "    images = np.reshape(images, (10000, 3, 32, 32))\n",
    "    labels = dict['labels']\n",
    "    imagearray = mx.nd.array(images)\n",
    "    labelarray = mx.nd.array(labels)\n",
    "    return imagearray, labelarray\n",
    "\n",
    "def extractCategories(path, file):\n",
    "    f = open(path+file, 'rb')\n",
    "    dict = cPickle.load(f)\n",
    "    return dict['label_names']\n",
    "\n",
    "def saveCifarImage(array, path, file):\n",
    "    # array is 3x32x32. cv2 needs 32x32x3\n",
    "    array = array.asnumpy().transpose(1,2,0)\n",
    "    # array is RGB. cv2 needs BGR\n",
    "    array = cv2.cvtColor(array, cv2.COLOR_RGB2BGR)\n",
    "    # save to PNG file\n",
    "    return cv2.imwrite(path+file+\".png\", array)\n",
    "\n",
    "imgarray, lblarray = extractImagesAndLabels(\"/home/alex/Документы/formxnet/cifar-10-batches-py/\", \"data_batch_2\")\n",
    "print imgarray.shape\n",
    "print lblarray.shape\n",
    "\n",
    "categories = extractCategories(\"/home/alex/Документы/formxnet/cifar-10-batches-py/\", \"batches.meta\")\n",
    "\n",
    "cats = []\n",
    "for i in range(1,20):\n",
    "    saveCifarImage(imgarray[i], \"./\", \"image\"+(str)(i))\n",
    "    category = lblarray[i].asnumpy()\n",
    "    category = (int)(category[0])\n",
    "cats.append(categories[category])\n",
    "print cats"
   ]
  },
  {
   "cell_type": "code",
   "execution_count": 17,
   "metadata": {},
   "outputs": [
    {
     "ename": "ValueError",
     "evalue": "The truth value of an NDArray with multiple elements is ambiguous.",
     "output_type": "error",
     "traceback": [
      "\u001b[0;31m---------------------------------------------------------------------------\u001b[0m",
      "\u001b[0;31mValueError\u001b[0m                                Traceback (most recent call last)",
      "\u001b[0;32m<ipython-input-17-b78ce3d4628f>\u001b[0m in \u001b[0;36m<module>\u001b[0;34m()\u001b[0m\n\u001b[1;32m     16\u001b[0m \u001b[0mbatch\u001b[0m\u001b[0;34m=\u001b[0m\u001b[0;36m128\u001b[0m\u001b[0;34m\u001b[0m\u001b[0m\n\u001b[1;32m     17\u001b[0m \u001b[0;34m\u001b[0m\u001b[0m\n\u001b[0;32m---> 18\u001b[0;31m \u001b[0mtraining_data\u001b[0m\u001b[0;34m,\u001b[0m \u001b[0mtraining_label\u001b[0m \u001b[0;34m=\u001b[0m \u001b[0mbuildTrainingSet\u001b[0m\u001b[0;34m(\u001b[0m\u001b[0mpath\u001b[0m\u001b[0;34m)\u001b[0m\u001b[0;34m\u001b[0m\u001b[0m\n\u001b[0m\u001b[1;32m     19\u001b[0m train_iter = mx.io.NDArrayIter(\n\u001b[1;32m     20\u001b[0m     data=training_data, label=training_label, batch_size=batch, shuffle=True)\n",
      "\u001b[0;32m<ipython-input-17-b78ce3d4628f>\u001b[0m in \u001b[0;36mbuildTrainingSet\u001b[0;34m(path)\u001b[0m\n\u001b[1;32m      4\u001b[0m     \u001b[0;32mfor\u001b[0m \u001b[0mf\u001b[0m \u001b[0;32min\u001b[0m \u001b[0;34m(\u001b[0m\u001b[0;34m\"data_batch_1\"\u001b[0m\u001b[0;34m,\u001b[0m \u001b[0;34m\"data_batch_2\"\u001b[0m\u001b[0;34m,\u001b[0m \u001b[0;34m\"data_batch_3\"\u001b[0m\u001b[0;34m,\u001b[0m \u001b[0;34m\"data_batch_4\"\u001b[0m\u001b[0;34m,\u001b[0m \u001b[0;34m\"data_batch_5\"\u001b[0m\u001b[0;34m)\u001b[0m\u001b[0;34m:\u001b[0m\u001b[0;34m\u001b[0m\u001b[0m\n\u001b[1;32m      5\u001b[0m         \u001b[0mimgarray\u001b[0m\u001b[0;34m,\u001b[0m \u001b[0mlblarray\u001b[0m \u001b[0;34m=\u001b[0m \u001b[0mextractImagesAndLabels\u001b[0m\u001b[0;34m(\u001b[0m\u001b[0mpath\u001b[0m\u001b[0;34m,\u001b[0m \u001b[0mf\u001b[0m\u001b[0;34m)\u001b[0m\u001b[0;34m\u001b[0m\u001b[0m\n\u001b[0;32m----> 6\u001b[0;31m         \u001b[0;32mif\u001b[0m \u001b[0;32mnot\u001b[0m \u001b[0mtraining_data\u001b[0m\u001b[0;34m:\u001b[0m\u001b[0;34m\u001b[0m\u001b[0m\n\u001b[0m\u001b[1;32m      7\u001b[0m             \u001b[0mtraining_data\u001b[0m \u001b[0;34m=\u001b[0m \u001b[0mimgarray\u001b[0m\u001b[0;34m\u001b[0m\u001b[0m\n\u001b[1;32m      8\u001b[0m             \u001b[0mtraining_label\u001b[0m \u001b[0;34m=\u001b[0m \u001b[0mlblarray\u001b[0m\u001b[0;34m\u001b[0m\u001b[0m\n",
      "\u001b[0;32m/usr/local/lib/python2.7/dist-packages/mxnet/ndarray/ndarray.pyc\u001b[0m in \u001b[0;36m__bool__\u001b[0;34m(self)\u001b[0m\n\u001b[1;32m    343\u001b[0m             \u001b[0;32mreturn\u001b[0m \u001b[0mbool\u001b[0m\u001b[0;34m(\u001b[0m\u001b[0mself\u001b[0m\u001b[0;34m.\u001b[0m\u001b[0masscalar\u001b[0m\u001b[0;34m(\u001b[0m\u001b[0;34m)\u001b[0m\u001b[0;34m)\u001b[0m\u001b[0;34m\u001b[0m\u001b[0m\n\u001b[1;32m    344\u001b[0m         \u001b[0;32melse\u001b[0m\u001b[0;34m:\u001b[0m\u001b[0;34m\u001b[0m\u001b[0m\n\u001b[0;32m--> 345\u001b[0;31m             raise ValueError(\"The truth value of an NDArray with multiple elements \" \\\n\u001b[0m\u001b[1;32m    346\u001b[0m                              \"is ambiguous.\")\n\u001b[1;32m    347\u001b[0m \u001b[0;34m\u001b[0m\u001b[0m\n",
      "\u001b[0;31mValueError\u001b[0m: The truth value of an NDArray with multiple elements is ambiguous."
     ]
    }
   ],
   "source": [
    "def buildTrainingSet(path):\n",
    "    training_data = []\n",
    "    training_label = []\n",
    "    for f in (\"data_batch_1\", \"data_batch_2\", \"data_batch_3\", \"data_batch_4\", \"data_batch_5\"):\n",
    "        imgarray, lblarray = extractImagesAndLabels(path, f)\n",
    "        if not training_data:\n",
    "            training_data = imgarray\n",
    "            training_label = lblarray\n",
    "        else:\n",
    "            training_data = mx.nd.concatenate([training_data, imgarray])\n",
    "            training_label = mx.nd.concatenate([training_label, lblarray])\n",
    "    return training_data, training_label\n",
    "\n",
    "\n",
    "path=\"/home/alex/Документы/formxnet/cifar-10-batches-py/\"\n",
    "batch=128\n",
    "\n",
    "training_data, training_label = buildTrainingSet(path)\n",
    "train_iter = mx.io.NDArrayIter(\n",
    "    data=training_data, label=training_label, batch_size=batch, shuffle=True)\n",
    "\n",
    "valid_data, valid_label = extractImagesAndLabels(path, \"test_batch\")\n",
    "valid_iter = mx.io.NDArrayIter(\n",
    "    data=valid_data, label=valid_label, batch_size=batch, shuffle=True)\n",
    "\n",
    "print training_data.shape\n",
    "print training_label.shape\n",
    "print valid_data.shape\n",
    "print valid_label.shape"
   ]
  }
 ],
 "metadata": {
  "kernelspec": {
   "display_name": "Python 2",
   "language": "python",
   "name": "python2"
  },
  "language_info": {
   "codemirror_mode": {
    "name": "ipython",
    "version": 2
   },
   "file_extension": ".py",
   "mimetype": "text/x-python",
   "name": "python",
   "nbconvert_exporter": "python",
   "pygments_lexer": "ipython2",
   "version": "2.7.12"
  }
 },
 "nbformat": 4,
 "nbformat_minor": 2
}
