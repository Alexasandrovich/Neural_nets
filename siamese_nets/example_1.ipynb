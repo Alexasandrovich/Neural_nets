{
 "cells": [
  {
   "cell_type": "code",
   "execution_count": 65,
   "metadata": {},
   "outputs": [],
   "source": [
    "from __future__ import absolute_import # wtf?\n",
    "import mxnet as mx\n",
    "import mxnet.symbol as mxs # тензоры\n",
    "import numpy as np \n",
    "import logging\n",
    "import sys\n",
    "sys.path.append('/home/alex/Документы/formxnet/siamese/')\n",
    "import pair_iterator\n",
    "from pair_iterator import PairDataIter"
   ]
  },
  {
   "cell_type": "code",
   "execution_count": 66,
   "metadata": {},
   "outputs": [],
   "source": [
    "logging.basicConfig(format = u'%(filename)s[LINE:%(lineno)d]# %(levelname)-8s [%(asctime)s]  %(message)s', level = logging.DEBUG)"
   ]
  },
  {
   "cell_type": "code",
   "execution_count": 67,
   "metadata": {},
   "outputs": [],
   "source": [
    "def contrastive_metric(label, pred): #! здесь определяется метрика для distance? \n",
    "    mask_positive = pred < 1\n",
    "    mask_negative = pred >= 1\n",
    "    pred[mask_negative] = 0\n",
    "    pred[mask_positive] = 1\n",
    "    return np.mean(label==pred)"
   ]
  },
  {
   "cell_type": "code",
   "execution_count": 69,
   "metadata": {},
   "outputs": [],
   "source": [
    "def siamese_simp_net():\n",
    "    def conv_bn_relu_pool_siamese(input_a, input_b, kernel, num_filter, pad, stride, name_postfix, use_pooling=False,\n",
    "                                  p_kernel=None, p_stride=None, use_batch_norm=True):\n",
    "        conv_weight = mxs.Variable(name='conv' + name_postfix + '_weight')\n",
    "        conv_bias = mxs.Variable(name='conv' + name_postfix + '_bias')\n",
    "        conv_a = mxs.Convolution(data=input_a, kernel=kernel, num_filter=num_filter, pad=pad, stride=stride,\n",
    "                                 name='conv' + name_postfix + \"_a\", weight=conv_weight, bias=conv_bias)\n",
    "        conv_b = mxs.Convolution(data=input_b, kernel=kernel, num_filter=num_filter, pad=pad, stride=stride,\n",
    "                                 name='conv' + name_postfix + \"_b\", weight=conv_weight, bias=conv_bias)\n",
    "        if use_batch_norm:\n",
    "            bn_gamma = mxs.Variable(name='bn' + name_postfix + '_gamma')\n",
    "            bn_beta = mxs.Variable(name='bn' + name_postfix + '_beta')\n",
    "            bn_moving_mean = mxs.Variable(name='bn' + name_postfix + '_moving_mean')\n",
    "            bn_moving_var = mxs.Variable(name='bn' + name_postfix + '_moving_var')\n",
    "            batch_norm_a = mxs.BatchNorm(data=conv_a, name='bn' + name_postfix + '_a', gamma=bn_gamma, beta=bn_beta,\n",
    "                                         moving_mean=bn_moving_mean, moving_var=bn_moving_var)\n",
    "            batch_norm_b = mxs.BatchNorm(data=conv_b, name='bn' + name_postfix + '_b', gamma=bn_gamma, beta=bn_beta,\n",
    "                                         moving_mean=bn_moving_mean, moving_var=bn_moving_var)\n",
    "        else:\n",
    "            batch_norm_a = conv_a\n",
    "            batch_norm_b = conv_b\n",
    "        relu_a = mxs.relu(data=batch_norm_a, name='relu' + name_postfix + '_a')\n",
    "        relu_b = mxs.relu(data=batch_norm_b, name='relu' + name_postfix + '_b')\n",
    "        if use_pooling:\n",
    "            out_a = mxs.Pooling(data=relu_a, kernel=p_kernel, pool_type='max', stride=p_stride,\n",
    "                                name='pool' + name_postfix + '_a')\n",
    "            out_b = mxs.Pooling(data=relu_b, kernel=p_kernel, pool_type='max', stride=p_stride,\n",
    "                                name='pool' + name_postfix + '_b')\n",
    "        else:\n",
    "            out_a = relu_a\n",
    "            out_b = relu_b\n",
    "        return out_a, out_b\n",
    "\n",
    "    data_a = mxs.Variable('data_a')\n",
    "    data_b = mxs.Variable('data_b')\n",
    "    c1_a, c1_b = conv_bn_relu_pool_siamese(data_a, data_b, kernel=(3, 3), num_filter=64, pad=(1, 1), stride=(1, 1),\n",
    "                                           name_postfix='1', use_pooling=False)\n",
    "    c1_0_a, c1_0_b = conv_bn_relu_pool_siamese(c1_a, c1_b, kernel=(3, 3), num_filter=32, pad=(1, 1), stride=(1, 1),\n",
    "                                               name_postfix='1_0', use_pooling=False)\n",
    "    c2_a, c2_b = conv_bn_relu_pool_siamese(c1_0_a, c1_0_b, kernel=(3, 3), num_filter=32, pad=(1, 1), stride=(1, 1),\n",
    "                                           name_postfix='2', use_pooling=False)\n",
    "    c2_1_a, c2_1_b = conv_bn_relu_pool_siamese(c2_a, c2_b, kernel=(3, 3), num_filter=32, pad=(1, 1), stride=(1, 1),\n",
    "                                               name_postfix='2_1', use_pooling=True, p_kernel=(2, 2), p_stride=(2, 2))\n",
    "    c2_2_a, c2_2_b = conv_bn_relu_pool_siamese(c2_1_a, c2_1_b, kernel=(3, 3), num_filter=32, pad=(1, 1), stride=(1, 1),\n",
    "                                               name_postfix='2_2', use_pooling=False)\n",
    "    c3_a, c3_b = conv_bn_relu_pool_siamese(c2_2_a, c2_2_b, kernel=(3, 3), num_filter=32, pad=(1, 1), stride=(1, 1),\n",
    "                                           name_postfix='3', use_pooling=False)\n",
    "    # conv4\n",
    "    conv4_weight = mxs.Variable(name='conv4_weight')\n",
    "    conv4_bias = mxs.Variable(name='conv4_bias')\n",
    "    conv4_a = mxs.Convolution(data=c3_a, kernel=(3, 3), num_filter=64, pad=(1, 1), stride=(1, 1),\n",
    "                              name='conv4_a', weight=conv4_weight, bias=conv4_bias)  # xavier\n",
    "    conv4_b = mxs.Convolution(data=c3_b, kernel=(3, 3), num_filter=64, pad=(1, 1), stride=(1, 1),\n",
    "                              name='conv4_b', weight=conv4_weight, bias=conv4_bias)  # xavier\n",
    "    maxp4_a = mxs.Pooling(data=conv4_a, kernel=(2, 2), pool_type='max', stride=(2, 2), name='pool4_a')\n",
    "    maxp4_b = mxs.Pooling(data=conv4_b, kernel=(2, 2), pool_type='max', stride=(2, 2), name='pool4_b')\n",
    "    bn4_gamma = mxs.Variable(name='bn4_gamma')\n",
    "    bn4_beta = mxs.Variable(name='bn4_beta')\n",
    "    bn4_moving_mean = mxs.Variable(name='bn4_moving_mean')\n",
    "    bn4_moving_var = mxs.Variable(name='bn4_moving_var')\n",
    "    batch_norm_4_a = mxs.BatchNorm(data=maxp4_a, name='bn4_a', gamma=bn4_gamma, beta=bn4_beta,\n",
    "                                   moving_mean=bn4_moving_mean, moving_var=bn4_moving_var)\n",
    "    batch_norm_4_b = mxs.BatchNorm(data=maxp4_b, name='bn4_b', gamma=bn4_gamma, beta=bn4_beta,\n",
    "                                   moving_mean=bn4_moving_mean, moving_var=bn4_moving_var)\n",
    "    relu4_a = mxs.relu(data=batch_norm_4_a, name='relu4')\n",
    "    relu4_b = mxs.relu(data=batch_norm_4_b, name='relu4')\n",
    "    c4_1_a, c4_1_b = conv_bn_relu_pool_siamese(relu4_a, relu4_b, kernel=(3, 3), num_filter=64, pad=(1, 1),\n",
    "                                               stride=(1, 1),\n",
    "                                               name_postfix='4_1', use_pooling=False)\n",
    "    c4_2_a, c4_2_b = conv_bn_relu_pool_siamese(c4_1_a, c4_1_b, kernel=(3, 3), num_filter=64, pad=(1, 1), stride=(1, 1),\n",
    "                                               name_postfix='4_2', use_pooling=True, p_kernel=(2, 2), p_stride=(2, 2))\n",
    "    c4_0_a, c4_0_b = conv_bn_relu_pool_siamese(c4_2_a, c4_2_b, kernel=(3, 3), num_filter=128, pad=(1, 1), stride=(1, 1),\n",
    "                                               name_postfix='4_0', use_pooling=False)\n",
    "    cccp4_a, cccp4_b = conv_bn_relu_pool_siamese(c4_0_a, c4_0_b, kernel=(1, 1), num_filter=256, pad=[], stride=(1, 1),\n",
    "                                                 name_postfix='_cccp4', use_pooling=False, use_batch_norm=False)\n",
    "    cccp5_a, cccp5_b = conv_bn_relu_pool_siamese(cccp4_a, cccp4_b, kernel=(1, 1), num_filter=64, pad=[], stride=(1, 1),\n",
    "                                                 name_postfix='_cccp5', use_pooling=True, p_kernel=(2, 2),\n",
    "                                                 p_stride=(2, 2), use_batch_norm=False)\n",
    "    cccp6_a, cccp6_b = conv_bn_relu_pool_siamese(cccp5_a, cccp5_b, kernel=(3, 3), num_filter=64, pad=(2, 2),\n",
    "                                                 stride=(1, 1), name_postfix='_cccp6', use_pooling=False,\n",
    "                                                 use_batch_norm=False)\n",
    "    flat_a = mxs.flatten(cccp6_a)\n",
    "    flat_b = mxs.flatten(cccp6_b)\n",
    "    return flat_a, flat_b\n"
   ]
  },
  {
   "cell_type": "code",
   "execution_count": 70,
   "metadata": {},
   "outputs": [],
   "source": [
    "def siamese():\n",
    "    labels = mxs.Variable(name='label')\n",
    "    flat_a, flat_b = siamese_simp_net()\n",
    "    distance = mxs.sqrt(mxs.sum(mxs.square(flat_a - flat_b), axis=1))\n",
    "    cl1 = labels * mxs.square(distance)\n",
    "    cl2 = (1 - labels) * mxs.square(mxs.maximum(1 - distance, 0))\n",
    "    contrastive_loss = mxs.MakeLoss(mxs.mean(cl1 + cl2))\n",
    "    distance_output = mxs.BlockGrad(distance, name='distance')\n",
    "    flat_a_output = mxs.BlockGrad(flat_a)\n",
    "    flat_b_output = mxs.BlockGrad(flat_b)\n",
    "    sym = mx.sym.Group([contrastive_loss, distance_output, flat_a_output, flat_b_output])\n",
    "    mod = mx.mod.Module(symbol=sym, context=mx.cpu(), data_names=['data_a', 'data_b'], label_names=['label'])\n",
    "    return mod"
   ]
  },
  {
   "cell_type": "code",
   "execution_count": 71,
   "metadata": {},
   "outputs": [],
   "source": [
    "def simmp_net():\n",
    "    labels = mxs.Variable(name='label')\n",
    "    flat_a, flat_b = siamese_simp_net()\n",
    "    fc = mxs.FullyConnected(flat_a)"
   ]
  },
  {
   "cell_type": "code",
   "execution_count": 72,
   "metadata": {},
   "outputs": [
    {
     "name": "stdout",
     "output_type": "stream",
     "text": [
      "Bind\n"
     ]
    }
   ],
   "source": [
    "mod = siamese()\n",
    "print(\"Bind\")"
   ]
  },
  {
   "cell_type": "code",
   "execution_count": 74,
   "metadata": {},
   "outputs": [
    {
     "name": "stderr",
     "output_type": "stream",
     "text": [
      "module.py[LINE:395]# WARNING  [2018-05-13 19:12:53,392]  Already bound, ignoring bind()\n"
     ]
    },
    {
     "name": "stdout",
     "output_type": "stream",
     "text": [
      "Initialize\n"
     ]
    },
    {
     "name": "stderr",
     "output_type": "stream",
     "text": [
      "/usr/local/lib/python2.7/dist-packages/ipykernel_launcher.py:8: UserWarning: Parameters already initialized and force_init=False. init_params call ignored.\n",
      "  \n"
     ]
    },
    {
     "ename": "NameError",
     "evalue": "global name 'path' is not defined",
     "output_type": "error",
     "traceback": [
      "\u001b[0;31m---------------------------------------------------------------------------\u001b[0m",
      "\u001b[0;31mNameError\u001b[0m                                 Traceback (most recent call last)",
      "\u001b[0;32m<ipython-input-74-bc37038c7361>\u001b[0m in \u001b[0;36m<module>\u001b[0;34m()\u001b[0m\n\u001b[1;32m      8\u001b[0m \u001b[0mmod\u001b[0m\u001b[0;34m.\u001b[0m\u001b[0minit_params\u001b[0m\u001b[0;34m(\u001b[0m\u001b[0minit\u001b[0m\u001b[0;34m)\u001b[0m\u001b[0;34m\u001b[0m\u001b[0m\n\u001b[1;32m      9\u001b[0m \u001b[0;34m\u001b[0m\u001b[0m\n\u001b[0;32m---> 10\u001b[0;31m \u001b[0mtrain_iter\u001b[0m \u001b[0;34m=\u001b[0m \u001b[0mPairDataIter\u001b[0m\u001b[0;34m(\u001b[0m\u001b[0mbatch_size\u001b[0m\u001b[0;34m=\u001b[0m\u001b[0;36m1024\u001b[0m\u001b[0;34m)\u001b[0m\u001b[0;34m\u001b[0m\u001b[0m\n\u001b[0m\u001b[1;32m     11\u001b[0m \u001b[0;34m\u001b[0m\u001b[0m\n\u001b[1;32m     12\u001b[0m eval_metrics = [\n",
      "\u001b[0;32m/home/alex/Документы/formxnet/siamese/pair_iterator.pyc\u001b[0m in \u001b[0;36m__init__\u001b[0;34m(self, batch_size, mode)\u001b[0m\n\u001b[1;32m     75\u001b[0m              \u001b[0;31m#   print \"else\"\u001b[0m\u001b[0;34m\u001b[0m\u001b[0;34m\u001b[0m\u001b[0m\n\u001b[1;32m     76\u001b[0m                 \u001b[0;31m#training_data = mx.nd.concatenate([training_data, imgarray])\u001b[0m\u001b[0;34m\u001b[0m\u001b[0;34m\u001b[0m\u001b[0m\n\u001b[0;32m---> 77\u001b[0;31m                 \u001b[0;31m#training_label = mx.nd.concatenate([training_label, lblarray])\u001b[0m\u001b[0;34m\u001b[0m\u001b[0;34m\u001b[0m\u001b[0m\n\u001b[0m\u001b[1;32m     78\u001b[0m               \u001b[0;31m#  print \"training_data_2 after change\"\u001b[0m\u001b[0;34m\u001b[0m\u001b[0;34m\u001b[0m\u001b[0m\n\u001b[1;32m     79\u001b[0m                \u001b[0;31m# print training_data.shape\u001b[0m\u001b[0;34m\u001b[0m\u001b[0;34m\u001b[0m\u001b[0m\n",
      "\u001b[0;31mNameError\u001b[0m: global name 'path' is not defined"
     ]
    }
   ],
   "source": [
    "mod.bind(data_shapes=[mx.io.DataDesc('data_a', (128, 3, 32, 32)), mx.io.DataDesc('data_b', (128, 3, 32, 32))],\n",
    "         label_shapes=[mx.io.DataDesc('label', (128,))])\n",
    "print(\"Initialize\")\n",
    "init = mx.initializer.Mixed([\"(conv1|conv1_0|conv3|conv4|conv4_1|conv4_2|conv4_0|cccp4|cccp5|cccp6)_weight\",\n",
    "                             \"(cccp4|cccp5|cccp6)_bias\", \"conv2|conv2_1|conv2_2\", \".*\"],\n",
    "                            [mx.initializer.Xavier(), mx.initializer.Zero(), mx.initializer.Normal(),\n",
    "                             mx.initializer.Uniform()])\n",
    "mod.init_params(init)\n",
    "\n",
    "train_iter = PairDataIter(batch_size=1024)\n",
    "\n",
    "eval_metrics = [\n",
    "    mx.metric.CustomMetric(contrastive_metric, name='contrastive_accuracy', output_names=['distance_output'],\n",
    "                           label_names=['label'])]\n",
    "batch_end_callbacks = [mx.callback.Speedometer(128, 1)]\n",
    "print(\"Start learning\")\n",
    "try:\n",
    "    mod.fit(train_iter,\n",
    "            optimizer='adam',\n",
    "            optimizer_params={'learning_rate': 0.0001},\n",
    "            batch_end_callback=batch_end_callbacks,\n",
    "            eval_metric=eval_metrics,\n",
    "            num_epoch=1,\n",
    "            initializer=init\n",
    "            )\n",
    "except KeyboardInterrupt:\n",
    "    mod.save_checkpoint('/home/alex/', 0)\n",
    "pass"
   ]
  },
  {
   "cell_type": "code",
   "execution_count": null,
   "metadata": {},
   "outputs": [],
   "source": []
  }
 ],
 "metadata": {
  "kernelspec": {
   "display_name": "Python 2",
   "language": "python",
   "name": "python2"
  },
  "language_info": {
   "codemirror_mode": {
    "name": "ipython",
    "version": 2
   },
   "file_extension": ".py",
   "mimetype": "text/x-python",
   "name": "python",
   "nbconvert_exporter": "python",
   "pygments_lexer": "ipython2",
   "version": "2.7.12"
  }
 },
 "nbformat": 4,
 "nbformat_minor": 2
}
