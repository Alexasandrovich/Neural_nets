{
 "cells": [
  {
   "cell_type": "code",
   "execution_count": 12,
   "metadata": {},
   "outputs": [],
   "source": [
    "import mxnet as mx\n",
    "import mxnet.symbol as mxs\n",
    "import cv2\n",
    "import numpy as np"
   ]
  },
  {
   "cell_type": "code",
   "execution_count": 2,
   "metadata": {},
   "outputs": [],
   "source": [
    "PIXEL_MEANS = [103.06, 115.90, 123.15] # что это? \n"
   ]
  },
  {
   "cell_type": "code",
   "execution_count": 3,
   "metadata": {},
   "outputs": [],
   "source": [
    "def infer_shape(sym, print_arguments=False, **kwargs): # показывает хар-ку всех тензоров\n",
    "    if 'data' not in kwargs:\n",
    "        kwargs['data'] = (1, 3, 1080, 1920)\n",
    "    if kwargs['data'] is None:\n",
    "        del kwargs['data']\n",
    "    args = sym.list_arguments()\n",
    "    aux = sym.list_auxiliary_states()\n",
    "    out = sym.list_outputs()\n",
    "    args_shapes, out_shapes, aux_shapes = sym.infer_shape(**kwargs)\n",
    "    if print_arguments:\n",
    "        print('Arguments: ')\n",
    "        for name, shape in zip(args, args_shapes):\n",
    "            print('{}: {}'.format(name, shape))\n",
    "        print('Auxiliary: ')\n",
    "        for name, shape in zip(aux, aux_shapes):\n",
    "            print('{}: {}'.format(name, shape))\n",
    "    print('Outputs: ')\n",
    "    for name, shape in zip(out, out_shapes):\n",
    "        print('{}: {}'.format(name, shape))\n",
    "    print('')"
   ]
  },
  {
   "cell_type": "code",
   "execution_count": 4,
   "metadata": {},
   "outputs": [],
   "source": [
    "def transform(im, pixel_means=PIXEL_MEANS):\n",
    "    \"\"\"\n",
    "    transform into mxnet tensor\n",
    "    substract pixel size and transform to correct format\n",
    "    :param im: [height, width, channel] in BGR\n",
    "    :param pixel_means: [B, G, R pixel means]\n",
    "    :return: [batch, channel, height, width]\n",
    "    \"\"\"\n",
    "    im_tensor = np.zeros((1,3,im.shape[0], im.shape[1]))\n",
    "    for i in range(3):\n",
    "        im_tensor[0,i,:,:] = im[:,:,2-i] - pixel_means[2-i]\n",
    "    return im_tensor \n",
    "\n",
    "def embedder(data, suffix=''):\n",
    "    conv1 = mx.symbol.Convolution(name='conv1' + suffix, data=data, \n",
    "                                 num_filter=64, pad=(3,3), kernel=(7,7),\n",
    "                                 stride = (2,2), no_bias = True)    \n",
    "    bn_conv1 = mx.symbol.BatchNorm(name='bn_conv1'+suffix, data=conv1)\n",
    "    conv1_relu = mx.symbol.Activation(name='conv1_relu' + suffix, \n",
    "                                     data=bn_conv1, act_type='relu') # что такое relu?\n",
    "    pool1 = mx.symbol.Pooling(name='pool1' + suffix, data=conv1_relu, \n",
    "                             pooling_convention='full', pad=(0,0),\n",
    "                             kernel=(3,3), stride=(2,2), pool_type='max')\n",
    "    conv2 = mx.symbol.Convolution(name='conv2' + suffix, data=pool1, \n",
    "                                 num_filter=16, pad=(0,0),\n",
    "                                 kernel=(1,1), stride=(1,1), no_bias=True)\n",
    "    conv2_relu = mx.symbol.Activation(name='res2a_branch2a_relu' + suffix,\n",
    "                                     data=conv2, act_type='relu')\n",
    "    emb = mx.symbol.flatten(conv2_relu)\n",
    "    return emb\n",
    "\n"
   ]
  },
  {
   "cell_type": "code",
   "execution_count": 5,
   "metadata": {},
   "outputs": [],
   "source": [
    "im_1 = cv2.imread('/home/alex/image0.png')\n",
    "im_tr_1 = transform(im_1) \n",
    "im_tr_1 = mx.nd.array(im_tr_1, mx.cpu(0))\n",
    "\n",
    "im_2 = cv2.imread('/home/alex/image1.png')\n",
    "im_tr_2 = transform(im_2) \n",
    "im_tr_2 = mx.nd.array(im_tr_2, mx.cpu(0))"
   ]
  },
  {
   "cell_type": "code",
   "execution_count": 6,
   "metadata": {},
   "outputs": [
    {
     "name": "stdout",
     "output_type": "stream",
     "text": [
      "Outputs: \n",
      "flatten0_output: (1L, 784L)\n",
      "\n"
     ]
    }
   ],
   "source": [
    "d1 = mxs.var('data_a')\n",
    "emb1 = embedder(d1,'_a')\n",
    "infer_shape(emb1, data_a=(1,3,28,28), data=None)\n",
    "emb1_arguments =emb1.list_arguments()\n",
    "emb1_arguments.pop(0)\n",
    "emb1_auxiliary = emb1.list_auxiliary_states()"
   ]
  },
  {
   "cell_type": "code",
   "execution_count": 7,
   "metadata": {},
   "outputs": [
    {
     "name": "stderr",
     "output_type": "stream",
     "text": [
      "/usr/local/lib/python2.7/dist-packages/mxnet/module/base_module.py:53: UserWarning: \u001b[91mYou created Module with Module(..., label_names=['softmax_label']) but input with name 'softmax_label' is not found in symbol.list_arguments(). Did you mean one of:\n",
      "\tdata_a\u001b[0m\n",
      "  warnings.warn(msg)\n",
      "/usr/local/lib/python2.7/dist-packages/mxnet/module/base_module.py:65: UserWarning: Data provided by label_shapes don't match names specified by label_names ([] vs. ['softmax_label'])\n",
      "  warnings.warn(msg)\n"
     ]
    }
   ],
   "source": [
    "mod=mx.module.Module(emb1, ['data_a'], context=[mx.cpu(0)])\n",
    "mod.bind([('data_a', (1,3,28,28))])\n",
    "mod.init_params()\n",
    "arg_params, aux_params = mod.get_params()"
   ]
  },
  {
   "cell_type": "code",
   "execution_count": null,
   "metadata": {},
   "outputs": [],
   "source": []
  },
  {
   "cell_type": "code",
   "execution_count": 8,
   "metadata": {},
   "outputs": [
    {
     "name": "stdout",
     "output_type": "stream",
     "text": [
      "Outputs: \n",
      "flatten1_output: (1L, 1024L)\n",
      "\n"
     ]
    }
   ],
   "source": [
    "d2 = mxs.var('data_b')\n",
    "emb2 = embedder(d2, 'b')\n",
    "infer_shape(emb2, data_b = (1,3,32,32), data=None)\n",
    "emb2_arguments = emb2.list_arguments()\n",
    "emb2_arguments.pop(0)\n",
    "emb2_auxiliary = emb2.list_auxiliary_states()"
   ]
  },
  {
   "cell_type": "code",
   "execution_count": 9,
   "metadata": {},
   "outputs": [],
   "source": [
    "shared_buffer = {}\n",
    "for i, name in enumerate(emb1_arguments):\n",
    "    shared_buffer[emb1_arguments[i]] = arg_params[name].as_in_context(mx.cpu(0))\n",
    "    shared_buffer[emb2_arguments[i]] = arg_params[name].as_in_context(mx.cpu(0))"
   ]
  },
  {
   "cell_type": "code",
   "execution_count": 10,
   "metadata": {},
   "outputs": [],
   "source": [
    "for i, name in enumerate(emb1_auxiliary):\n",
    "    shared_buffer[emb1_auxiliary[i]] = aux_params[name].as_in_context(mx.cpu(0))\n",
    "    shared_buffer[emb2_auxiliary[i]] = aux_params[name].as_in_context(mx.cpu(0))"
   ]
  },
  {
   "cell_type": "code",
   "execution_count": null,
   "metadata": {},
   "outputs": [],
   "source": []
  },
  {
   "cell_type": "code",
   "execution_count": 11,
   "metadata": {},
   "outputs": [
    {
     "name": "stdout",
     "output_type": "stream",
     "text": [
      "Outputs: \n",
      "sqrt0_output: (1L,)\n",
      "\n",
      "[\n",
      "[120.00456]\n",
      "<NDArray 1 @cpu(0)>]\n"
     ]
    }
   ],
   "source": [
    "distance = mxs.sqrt(mxs.sum(mxs.pow(emb1 - emb2, 2), axis=1 ))\n",
    "infer_shape(distance, data_a=(1,3,32,32), data_b=(1,3,32,32), data=None)\n",
    "\n",
    "siamese_exe = distance.simple_bind(mx.cpu(0), data_a = (1,3,32,32), \n",
    "                                  data_b=(1,3,32,32), shared_buffer = shared_buffer)\n",
    "distance_out = siamese_exe.forward(False, data_a=im_tr_1, data_b=im_tr_2)\n",
    "print (distance_out)"
   ]
  }
 ],
 "metadata": {
  "kernelspec": {
   "display_name": "Python 2",
   "language": "python",
   "name": "python2"
  },
  "language_info": {
   "codemirror_mode": {
    "name": "ipython",
    "version": 2
   },
   "file_extension": ".py",
   "mimetype": "text/x-python",
   "name": "python",
   "nbconvert_exporter": "python",
   "pygments_lexer": "ipython2",
   "version": "2.7.12"
  }
 },
 "nbformat": 4,
 "nbformat_minor": 2
}
