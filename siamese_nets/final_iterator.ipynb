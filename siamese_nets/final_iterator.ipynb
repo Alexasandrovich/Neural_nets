{
 "cells": [
  {
   "cell_type": "code",
   "execution_count": 4,
   "metadata": {},
   "outputs": [],
   "source": [
    "import mxnet as mx\n",
    "import numpy as np\n",
    "import cPickle\n"
   ]
  },
  {
   "cell_type": "code",
   "execution_count": 6,
   "metadata": {},
   "outputs": [],
   "source": [
    "def make_def_pairs(data, labels, num_pairs, image_shape): #эта фигня берёт наш CIFAR-10 и мирно делит его на пары, но как потом эти пары подавать на вход сетке и вообще, что происходит? \n",
    "    pairs = np.zeros((num_pairs, 2, image_shape[0], image_shape[1], # что такое data здесь? Это массивы значения пикселей? \n",
    "                     image_shape[2]))\n",
    "    labels_pairs = np.zeros(num_pairs)\n",
    "    num_same = 0 \n",
    "    num_dif = 0\n",
    "    k = 0 #! чем отличается k от num_pairs? k - счётчик, num_pairs - цель? \n",
    "    \n",
    "    while k < num_pairs: # благодаря этому циклу мы вычленяем из нашего batch (или весь CIFAR-10) любые две пары с их labels, верно? \n",
    "        first_index = np.random.randint(data.shape[0]) #! data.shape[0] - зачем нам кол-во строк в матрице 32х32? \n",
    "        second_index = np.random.randint(data.shape[0]) #! что есть data.shape[0] из low, high, size? Бред какой-то.\n",
    "        same = labels[first_index] == labels[second_index] # same is true, если картинки из одного класса\n",
    "        if same and num_same < num_pairs/2: # второе условие - это проверка, что кол-во одинаковых картинок (случаев) не больше половины всех пар\n",
    "            pairs[k,0] = data[first_index] #! что означает второй индекс? 2? \n",
    "            pairs[k,1] = data[second_index] \n",
    "            labels_pairs[k] = 1 # если картинки в паре равны, то окей, их лэйбл - 1\n",
    "            num_same += 1\n",
    "            k+=1\n",
    "        elif not same and num_dif < num_pairs/2: \n",
    "            pairs[k,0]=data[first_index] \n",
    "            pairs[k,1]=data[second_index]\n",
    "            labels_pairs[k]=0 # если картинки в паре разные, то окей, их лэйбл - 0\n",
    "            num_dif += 1\n",
    "            k+=1\n",
    "    return pairs, labels_pairs  # pairs - индексы на пары, labels означает разные картинки в паре или нет, но как возвращать массивы image (пиксели, все дела)?\n",
    "# зачем нам половина одинаковых пар, половина разных? \n",
    "\n",
    "class PairDataIter(mx.io.DataIter): # with helping NDArrays\n",
    "    def extractImagesAndLabels(self, path, file): # ну окей, я получил данные и лэйблы. Как теперь связать это с make_dif_pairs\n",
    "        self.path = path # без этого совсем никак? \n",
    "        self.file = file\n",
    "        f=open(path+file, 'rb')\n",
    "        dict=cPickle.load(f) # загрузка в словарь\n",
    "        images=dict['data']\n",
    "        images = np.reshape(images,(10000, 3,32, 32)) \n",
    "        labels = dict['labels']\n",
    "        imagearray = mx.nd.array(images) # не совсем понятна функция mx.nd.array()\n",
    "        labelarray = mx.nd.array(labels)\n",
    "        return imagearray,labelarray # возвращаем массив картинок и меток\n",
    "        \n",
    "    def load_cifar(self, path): # направильно, так как не используется функция def make_def_pairs\n",
    "        self.path=path\n",
    "        training_data=[]\n",
    "        training_label=[]\n",
    "        for f in (\"data_batch_1\", \"data_batch_2\", \"data_batch_3\", \"data_batch_4\", \"data_batch_5\"):\n",
    "            imgarray, lblarray = self.extractImagesAndLabels(path, f)\n",
    "            if not training_data:\n",
    "                training_data = imgarray\n",
    "                training_label = lblarray\n",
    "            else:  \n",
    "                training_data = mx.nd.concatenate([training_data, imgarray])\n",
    "                training_label = mx.nd.concatenate([training_label, lblarray])\n",
    "        return training_data, training_label # вроде то, что просили, а именно:  \n",
    "    \"\"\"\n",
    "            далее нужно загрузить CIFAR-10 в виде \n",
    "            n - кол-во изображений в датасете\n",
    "            data - список или массив всех изображений, shape (n, 3, 32, 32)\n",
    "            label - номер класса для каждой картинки, shape (n, 1)\n",
    "            Фактически нужно написать функцию load_cifar()\n",
    "    \"\"\"\n",
    "    \n",
    "    path=\"/home/alex/Документы/formxnet/cifar-10-batches-py/\"\n",
    "    def next(self): # Здесь нужно сделать возвращение dataBatch, но чем они отличается от просто Batch? Гугл говорит, что это одно и то же\n",
    "        pairs = make_pairs_random(self.data, self.label, self.batch_size, \n",
    "                                  (32, 32, 3))\n",
    "        pass # зачем эта заглушка\n",
    "        return mx.io.DataBatch(\n",
    "            data=[mx.nd.array(np.moveaxis(pairs[0][:, 0], 3, 1)),\n",
    "                 mx.nd.array(np.moveaxis(pairs[0][:, 1], 3, 1))],\n",
    "            label = [mx.nd.array(pairs[1])],\n",
    "            provide_data=self.provide_data,\n",
    "            provide_label=self.provide_label        \n",
    "            )\n",
    "        \n",
    "    def __init__(self, batch_size, mode='train'): # эта штука типо конструктора\n",
    "        super(PairDataIter).__init__()\n",
    "        assert mode in ['train', 'val'] #! какая проверка условия здесь идёт? \n",
    "        self.batch_size = batch_size\n",
    "        self.provide_data = [('data_a', (batch_size, 3, 32, 32)), # инициализация датасета\n",
    "                            ('data_b', (batch_size, 3, 32, 32))]\n",
    "        self.training_data, self.training_label = self.load_cifar(path) # а нужно ли здесь self слева\n",
    "        self.valid_data, self.valid_label = self.extractImagesAndLabels(path, \"test_batch\") # и здесь\n",
    "        # дальше пойдёт бред\n",
    "        ready_pairs=self.make_def_pairs(valid_data, valid_label, 5000, (3,32,32)) # 5000 пар?\n",
    "        # а как передать теперь эти пары сетке для обучения? \n",
    "     "
   ]
  },
  {
   "cell_type": "code",
   "execution_count": 7,
   "metadata": {},
   "outputs": [
    {
     "ename": "TypeError",
     "evalue": "super() takes at least 1 argument (0 given)",
     "traceback": [
      "\u001b[0;31m---------------------------------------------------------------------------\u001b[0m",
      "\u001b[0;31mTypeError\u001b[0m                                 Traceback (most recent call last)",
      "\u001b[0;32m<ipython-input-7-89b36115e082>\u001b[0m in \u001b[0;36m<module>\u001b[0;34m()\u001b[0m\n\u001b[0;32m----> 1\u001b[0;31m \u001b[0ma\u001b[0m\u001b[0;34m=\u001b[0m\u001b[0mPairDataIter\u001b[0m\u001b[0;34m(\u001b[0m\u001b[0;36m32\u001b[0m\u001b[0;34m)\u001b[0m\u001b[0;34m\u001b[0m\u001b[0m\n\u001b[0m\u001b[1;32m      2\u001b[0m \u001b[0ma\u001b[0m\u001b[0;34m.\u001b[0m\u001b[0mload_cifar\u001b[0m\u001b[0;34m(\u001b[0m\u001b[0;34m\"/home/alex/\"\u001b[0m\u001b[0;34m)\u001b[0m\u001b[0;34m\u001b[0m\u001b[0m\n\u001b[1;32m      3\u001b[0m \u001b[0mbatch\u001b[0m \u001b[0;34m=\u001b[0m \u001b[0ma\u001b[0m\u001b[0;34m.\u001b[0m\u001b[0mnext\u001b[0m\u001b[0;34m(\u001b[0m\u001b[0;34m)\u001b[0m\u001b[0;34m\u001b[0m\u001b[0m\n\u001b[1;32m      4\u001b[0m \u001b[0mbatch\u001b[0m\u001b[0;34m.\u001b[0m\u001b[0mlabel\u001b[0m\u001b[0;34m\u001b[0m\u001b[0m\n\u001b[1;32m      5\u001b[0m \u001b[0mbatch\u001b[0m\u001b[0;34m.\u001b[0m\u001b[0mdata\u001b[0m\u001b[0;34m\u001b[0m\u001b[0m\n",
      "\u001b[0;32m<ipython-input-6-20c48929de33>\u001b[0m in \u001b[0;36m__init__\u001b[0;34m(self, batch_size, mode)\u001b[0m\n\u001b[1;32m     74\u001b[0m \u001b[0;34m\u001b[0m\u001b[0m\n\u001b[1;32m     75\u001b[0m     \u001b[0;32mdef\u001b[0m \u001b[0m__init__\u001b[0m\u001b[0;34m(\u001b[0m\u001b[0mself\u001b[0m\u001b[0;34m,\u001b[0m \u001b[0mbatch_size\u001b[0m\u001b[0;34m,\u001b[0m \u001b[0mmode\u001b[0m\u001b[0;34m=\u001b[0m\u001b[0;34m'train'\u001b[0m\u001b[0;34m)\u001b[0m\u001b[0;34m:\u001b[0m \u001b[0;31m# эта штука типо конструктора\u001b[0m\u001b[0;34m\u001b[0m\u001b[0m\n\u001b[0;32m---> 76\u001b[0;31m         \u001b[0msuper\u001b[0m\u001b[0;34m(\u001b[0m\u001b[0mPairDataIter\u001b[0m\u001b[0;34m)\u001b[0m\u001b[0;34m.\u001b[0m\u001b[0m__init__\u001b[0m\u001b[0;34m(\u001b[0m\u001b[0;34m)\u001b[0m\u001b[0;34m\u001b[0m\u001b[0m\n\u001b[0m\u001b[1;32m     77\u001b[0m         \u001b[0;32massert\u001b[0m \u001b[0mmode\u001b[0m \u001b[0;32min\u001b[0m \u001b[0;34m[\u001b[0m\u001b[0;34m'train'\u001b[0m\u001b[0;34m,\u001b[0m \u001b[0;34m'val'\u001b[0m\u001b[0;34m]\u001b[0m \u001b[0;31m#! какая проверка условия здесь идёт?\u001b[0m\u001b[0;34m\u001b[0m\u001b[0m\n\u001b[1;32m     78\u001b[0m         \u001b[0mself\u001b[0m\u001b[0;34m.\u001b[0m\u001b[0mbatch_size\u001b[0m \u001b[0;34m=\u001b[0m \u001b[0mbatch_size\u001b[0m\u001b[0;34m\u001b[0m\u001b[0m\n",
      "\u001b[0;31mTypeError\u001b[0m: super() takes at least 1 argument (0 given)"
     ],
     "output_type": "error"
    }
   ],
   "source": [
    "a=PairDataIter(32)\n",
    "a.load_cifar(\"/home/alex/\")\n",
    "batch = a.next()\n",
    "batch.label\n",
    "batch.data"
   ]
  },
  {
   "cell_type": "code",
   "execution_count": 8,
   "metadata": {},
   "outputs": [
    {
     "data": {
      "text/plain": [
       "'/usr/bin/python'"
      ]
     },
     "execution_count": 8,
     "metadata": {},
     "output_type": "execute_result"
    }
   ],
   "source": [
    "import sys\n",
    "sys.executable"
   ]
  },
  {
   "cell_type": "code",
   "execution_count": null,
   "metadata": {},
   "outputs": [],
   "source": []
  },
  {
   "cell_type": "code",
   "execution_count": null,
   "metadata": {},
   "outputs": [],
   "source": []
  }
 ],
 "metadata": {
  "kernelspec": {
   "display_name": "Python 2",
   "language": "python",
   "name": "python2"
  },
  "language_info": {
   "codemirror_mode": {
    "name": "ipython",
    "version": 2
   },
   "file_extension": ".py",
   "mimetype": "text/x-python",
   "name": "python",
   "nbconvert_exporter": "python",
   "pygments_lexer": "ipython2",
   "version": "2.7.12"
  }
 },
 "nbformat": 4,
 "nbformat_minor": 2
}
