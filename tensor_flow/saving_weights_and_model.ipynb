{
 "cells": [
  {
   "cell_type": "markdown",
   "metadata": {
    "colab_type": "text",
    "id": "tL3e-bSVme65"
   },
   "source": [
    "# Туториал по сохранению и продолжению обучения нейронной сети с демонстрацией на TensorBoard с применением туннелирования. "
   ]
  },
  {
   "cell_type": "markdown",
   "metadata": {
    "colab_type": "text",
    "id": "bHKbMCzcmS9U"
   },
   "source": [
    "#### Разбёрм принцип сохранения весов и продолжения обучения нейронной сети. Применять это можно для различных видов экспериментов, таких как чередование опртимизаторов для нахождения оптимальной составляющей сети, изменение архитектуры сети и подбор наиболее устойчивого строение сети. Плюсом является то, что в случае долгосрочного обучения сети не придётся начинать всё заново, если возникнет необходимость что-то изменить в модели нейронной сети. "
   ]
  },
  {
   "cell_type": "markdown",
   "metadata": {
    "colab_type": "text",
    "id": "a7lklDILnB69"
   },
   "source": [
    "#### Для начала воспользуемся туннелированием, чтобы можно было воспользоваться TensorBoard ([link text](https://github.com/taomanwai/tensorboardcolab))"
   ]
  },
  {
   "cell_type": "code",
   "execution_count": 2,
   "metadata": {
    "colab": {
     "base_uri": "https://localhost:8080/",
     "height": 156
    },
    "colab_type": "code",
    "id": "S9oq3udUmWJG",
    "outputId": "0d1539bb-9519-4d97-80ff-41b045169d1b"
   },
   "outputs": [
    {
     "name": "stdout",
     "output_type": "stream",
     "text": [
      "Collecting tensorboardcolab\n",
      "  Downloading https://files.pythonhosted.org/packages/73/3d/eaf745e162e471c5bb2737a407d8626fb8684a88cf085045456aeb841d3c/tensorboardcolab-0.0.19.tar.gz\n",
      "Building wheels for collected packages: tensorboardcolab\n",
      "  Running setup.py bdist_wheel for tensorboardcolab ... \u001b[?25l-\b \bdone\n",
      "\u001b[?25h  Stored in directory: /content/.cache/pip/wheels/ab/74/02/cda602d1dc28b2f12eab313c49b9bfa14d6371326bc2590e06\n",
      "Successfully built tensorboardcolab\n",
      "Installing collected packages: tensorboardcolab\n",
      "Successfully installed tensorboardcolab-0.0.19\n"
     ]
    }
   ],
   "source": [
    "!pip install -U tensorboardcolab"
   ]
  },
  {
   "cell_type": "code",
   "execution_count": 0,
   "metadata": {
    "colab": {},
    "colab_type": "code",
    "id": "kAZjF_ftmMUO"
   },
   "outputs": [],
   "source": [
    "from tensorboardcolab import *"
   ]
  },
  {
   "cell_type": "code",
   "execution_count": 4,
   "metadata": {
    "colab": {
     "base_uri": "https://localhost:8080/",
     "height": 69
    },
    "colab_type": "code",
    "id": "sJ1kDVzgoWbM",
    "outputId": "e4adb353-cc70-45e5-8a60-c5a2ef6b04a0"
   },
   "outputs": [
    {
     "name": "stdout",
     "output_type": "stream",
     "text": [
      "Wait for 8 seconds...\n",
      "TensorBoard link:\n",
      "http://a039d529.ngrok.io\n"
     ]
    }
   ],
   "source": [
    "tbc=TensorBoardColab()"
   ]
  },
  {
   "cell_type": "markdown",
   "metadata": {
    "colab_type": "text",
    "id": "_WoOOjj4oiBF"
   },
   "source": [
    "С помощью этой ссылки мы сможет отслеживать прогресс обучения нейронной сети.\n",
    "Заменчание: если инициализация завершилась неудачей, увеличьте startup_waiting_time: \n",
    "tbc=TensorBoardColab(startup_waiting_time=30)"
   ]
  },
  {
   "cell_type": "code",
   "execution_count": 25,
   "metadata": {
    "colab": {
     "base_uri": "https://localhost:8080/",
     "height": 503
    },
    "colab_type": "code",
    "id": "H3ISkgsopbSu",
    "outputId": "abfd5e82-e69b-4af0-81ae-786b9bc8d81c"
   },
   "outputs": [
    {
     "name": "stdout",
     "output_type": "stream",
     "text": [
      "x_train shape: (50000, 32, 32, 3)\n",
      "50000 train samples\n",
      "10000 test samples\n",
      "Using real-time data augmentation.\n",
      "Epoch 1/10\n",
      "1563/1563 [==============================] - 51s 32ms/step - loss: 1.6558 - acc: 0.3887 - val_loss: 1.2760 - val_acc: 0.5440\n",
      "Epoch 2/10\n",
      "1563/1563 [==============================] - 50s 32ms/step - loss: 1.3217 - acc: 0.5218 - val_loss: 1.0712 - val_acc: 0.6250\n",
      "Epoch 3/10\n",
      "1563/1563 [==============================] - 50s 32ms/step - loss: 1.1534 - acc: 0.5896 - val_loss: 0.9339 - val_acc: 0.6712\n",
      "Epoch 4/10\n",
      "1563/1563 [==============================] - 50s 32ms/step - loss: 1.0408 - acc: 0.6319 - val_loss: 0.9151 - val_acc: 0.6805\n",
      "Epoch 5/10\n",
      "1563/1563 [==============================] - 50s 32ms/step - loss: 0.9656 - acc: 0.6590 - val_loss: 0.8116 - val_acc: 0.7120\n",
      "Epoch 6/10\n",
      "1563/1563 [==============================] - 50s 32ms/step - loss: 0.9151 - acc: 0.6808 - val_loss: 0.7156 - val_acc: 0.7493\n",
      "Epoch 7/10\n",
      "1563/1563 [==============================] - 52s 33ms/step - loss: 0.8706 - acc: 0.6920 - val_loss: 0.7693 - val_acc: 0.7325\n",
      "Epoch 8/10\n",
      "1563/1563 [==============================] - 51s 32ms/step - loss: 0.8395 - acc: 0.7064 - val_loss: 0.6816 - val_acc: 0.7648\n",
      "Epoch 9/10\n",
      "1563/1563 [==============================] - 50s 32ms/step - loss: 0.8080 - acc: 0.7188 - val_loss: 0.6980 - val_acc: 0.7528\n",
      "Epoch 10/10\n",
      "1563/1563 [==============================] - 50s 32ms/step - loss: 0.7909 - acc: 0.7238 - val_loss: 0.6693 - val_acc: 0.7666\n",
      "Saved model to disk\n",
      "10000/10000 [==============================] - 2s 173us/step\n",
      "Test loss: 0.6693016686439515\n",
      "Test accuracy: 0.7666\n"
     ]
    }
   ],
   "source": [
    "from __future__ import print_function\n",
    "import keras\n",
    "from keras.datasets import cifar10\n",
    "from keras.preprocessing.image import ImageDataGenerator\n",
    "from keras.models import Sequential\n",
    "from keras.callbacks import TensorBoard\n",
    "from keras.layers import Dense, Dropout, Activation, Flatten\n",
    "from keras.layers import Conv2D, MaxPooling2D\n",
    "import os\n",
    "\n",
    "batch_size = 32\n",
    "num_classes = 10\n",
    "epochs = 10 # let's train NN with 10 epochs on GPU\n",
    "data_augmentation = True\n",
    "num_predictions = 20\n",
    "model_name = 'keras_cifar10_trained_model.h5'\n",
    "\n",
    "# The data, split between train and test sets:\n",
    "(x_train, y_train), (x_test, y_test) = cifar10.load_data()\n",
    "print('x_train shape:', x_train.shape)\n",
    "print(x_train.shape[0], 'train samples')\n",
    "print(x_test.shape[0], 'test samples')\n",
    "\n",
    "# Convert class vectors to binary class matrices.\n",
    "y_train = keras.utils.to_categorical(y_train, num_classes)\n",
    "y_test = keras.utils.to_categorical(y_test, num_classes)\n",
    "\n",
    "model = Sequential()\n",
    "model.add(Conv2D(32, (3, 3), padding='same',\n",
    "                 input_shape=x_train.shape[1:]))\n",
    "model.add(Activation('relu'))\n",
    "model.add(Conv2D(32, (3, 3)))\n",
    "model.add(Activation('relu'))\n",
    "model.add(MaxPooling2D(pool_size=(2, 2)))\n",
    "model.add(Dropout(0.25))\n",
    "\n",
    "model.add(Conv2D(64, (3, 3), padding='same'))\n",
    "model.add(Activation('relu'))\n",
    "model.add(Conv2D(64, (3, 3)))\n",
    "model.add(Activation('relu'))\n",
    "model.add(MaxPooling2D(pool_size=(2, 2)))\n",
    "model.add(Dropout(0.25))\n",
    "\n",
    "model.add(Flatten())\n",
    "model.add(Dense(512))\n",
    "model.add(Activation('relu'))\n",
    "model.add(Dropout(0.5))\n",
    "model.add(Dense(num_classes))\n",
    "model.add(Activation('softmax'))\n",
    "\n",
    "# initiate Adamax optimizer due to the best results on this DataSet and Architecture\n",
    "opt = keras.optimizers.Adamax(lr=0.002, beta_1=0.9, beta_2=0.999, epsilon=None, decay=0.0)\n",
    "\n",
    "# Let's train the model using RMSprop\n",
    "model.compile(loss='categorical_crossentropy',\n",
    "              optimizer=opt,\n",
    "              metrics=['accuracy'])\n",
    "\n",
    "x_train = x_train.astype('float32')\n",
    "x_test = x_test.astype('float32')\n",
    "x_train /= 255\n",
    "x_test /= 255\n",
    "\n",
    "if not data_augmentation:\n",
    "    print('Not using data augmentation.')\n",
    "    model.fit(x_train, y_train,\n",
    "              batch_size=batch_size,\n",
    "              epochs=epochs,\n",
    "              validation_data=(x_test, y_test),\n",
    "              shuffle=True)\n",
    "else:\n",
    "    print('Using real-time data augmentation.')\n",
    "    # This will do preprocessing and realtime data augmentation:\n",
    "    datagen = ImageDataGenerator(\n",
    "        featurewise_center=False,  # set input mean to 0 over the dataset\n",
    "        samplewise_center=False,  # set each sample mean to 0\n",
    "        featurewise_std_normalization=False,  # divide inputs by std of the dataset\n",
    "        samplewise_std_normalization=False,  # divide each input by its std\n",
    "        zca_whitening=False,  # apply ZCA whitening\n",
    "        rotation_range=0,  # randomly rotate images in the range (degrees, 0 to 180)\n",
    "        width_shift_range=0.1,  # randomly shift images horizontally (fraction of total width)\n",
    "        height_shift_range=0.1,  # randomly shift images vertically (fraction of total height)\n",
    "        horizontal_flip=True,  # randomly flip images\n",
    "        vertical_flip=False)  # randomly flip images\n",
    "\n",
    "    # Compute quantities required for feature-wise normalization\n",
    "    # (std, mean, and principal components if ZCA whitening is applied).\n",
    "    datagen.fit(x_train)\n",
    "\n",
    "    # Fit the model on the batches generated by datagen.flow().\n",
    "    model.fit_generator(datagen.flow(x_train, y_train,\n",
    "                                     batch_size=batch_size),\n",
    "                        epochs=epochs,\n",
    "                        validation_data=(x_test, y_test),\n",
    "                        workers=4,\n",
    "                       callbacks=[TensorBoardColabCallback(tbc)])\n",
    "\n",
    "# Save model and weights\n",
    "model_json = model.to_json()\n",
    "with open(\"model.json\", \"w\") as json_file:\n",
    "    json_file.write(model_json)\n",
    "model.save_weights(\"model.h5\")\n",
    "print(\"Saved model to disk\")\n",
    "\n",
    "# Score trained model.\n",
    "scores = model.evaluate(x_test, y_test, verbose=1)\n",
    "print('Test loss:', scores[0])\n",
    "print('Test accuracy:', scores[1])"
   ]
  },
  {
   "cell_type": "code",
   "execution_count": 6,
   "metadata": {
    "colab": {},
    "colab_type": "code",
    "id": "qE5RgGAQ8fuu"
   },
   "outputs": [
    {
     "data": {
      "image/png": "[encoded data removed]",
      "text/plain": [
       "<IPython.core.display.Image object>"
      ]
     },
     "execution_count": 6,
     "metadata": {},
     "output_type": "execute_result"
    }
   ],
   "source": [
    "from IPython.display import Image\n",
    "Image(filename='1.png')"
   ]
  },
  {
   "cell_type": "markdown",
   "metadata": {
    "colab_type": "text",
    "id": "rTG6shlmsYbD"
   },
   "source": [
    "#### Объясним, что произошло в \"Save models and weights\":\n",
    "Фраймворк Keras может сохранять как архитектуру модели, так и уже обученные веса. Веса сохраняются в фомате HDF5, который идеально подходит для манипуляций с чесленными многомерными матрицами - тензонами. \n",
    "Структура модели может быть описана и сохранена в двух разных форматах: JSON и YAML.\n",
    "#### Сохранение модели нейронной сети в JSON\n",
    "####  JSON - иерархическая модель: \n",
    "{\n",
    "   \"firstName\": \"Иван\",\n",
    "   \"lastName\": \"Иванов\",\n",
    "   \"address\": {\n",
    "       \"streetAddress\": \"Московское ш., 101, кв.101\",\n",
    "       \"city\": \"Ленинград\",\n",
    "       \"postalCode\": \"101101\"\n",
    "   },\n",
    "   \"phoneNumbers\": [\n",
    "       \"812 123-1234\",\n",
    "       \"916 123-4567\"\n",
    "   ]\n",
    "}\n",
    "\n",
    "#### Keras предоставляет возможность описать любую модель с использованием формата JSON с помощью функции to_json (). Таким образом, модель можно сохранить в файл, а затем загрузить через функцию model_from_json (), которая создаст новую модель из спецификации JSON.\n",
    "\n",
    "Веса сохраняются непосредственно из модели с помощью функции save_weights (), а затем загружаются с использованием симметричной функции load_weights (), именно это мы и проделали. \n",
    "\n",
    "Данные модели и веса загружаются из сохраненных файлов, и создается новая модель. Очень важно скомпилировать загруженную модель до ее использования. "
   ]
  },
  {
   "cell_type": "markdown",
   "metadata": {
    "colab_type": "text",
    "id": "Gsnt1xshxFhf"
   },
   "source": [
    "#### Проверим, что всё сохранилось: "
   ]
  },
  {
   "cell_type": "code",
   "execution_count": 30,
   "metadata": {
    "colab": {
     "base_uri": "https://localhost:8080/",
     "height": 104
    },
    "colab_type": "code",
    "id": "FOZBcf4XxEPh",
    "outputId": "09f2315d-8717-40a7-aedd-c1c9242773eb"
   },
   "outputs": [
    {
     "name": "stdout",
     "output_type": "stream",
     "text": [
      "total 4936\r\n",
      "drwxr-xr-x 3 root root    4096 Aug 13 21:16 \u001b[0m\u001b[01;34mdatalab\u001b[0m/\r\n",
      "drwxr-xr-x 4 root root    4096 Aug 15 14:50 \u001b[01;34mGraph\u001b[0m/\r\n",
      "-rw-r--r-- 1 root root 5038024 Aug 15 15:02 model.h5\r\n",
      "-rw-r--r-- 1 root root    4971 Aug 15 15:02 model.json\r\n"
     ]
    }
   ],
   "source": [
    "ls -l"
   ]
  },
  {
   "cell_type": "markdown",
   "metadata": {
    "colab_type": "text",
    "id": "AGZGjoNR0ezM"
   },
   "source": [
    "#### Теперь загрузим модель и веса: "
   ]
  },
  {
   "cell_type": "code",
   "execution_count": 31,
   "metadata": {
    "colab": {
     "base_uri": "https://localhost:8080/",
     "height": 34
    },
    "colab_type": "code",
    "id": "dHMLMtYc0NB9",
    "outputId": "69bdaf7a-ba4c-4f71-964e-414ca831f7ee"
   },
   "outputs": [
    {
     "name": "stdout",
     "output_type": "stream",
     "text": [
      "Loaded model from disk\n"
     ]
    }
   ],
   "source": [
    "from keras.models import load_model\n",
    "from keras.models import model_from_json\n",
    "json_file = open('model.json', 'r')\n",
    "loaded_model_json = json_file.read()\n",
    "json_file.close()\n",
    "loaded_model = model_from_json(loaded_model_json)\n",
    "loaded_model.load_weights(\"model.h5\")\n",
    "print(\"Loaded model from disk\")\n"
   ]
  },
  {
   "cell_type": "markdown",
   "metadata": {
    "colab_type": "text",
    "id": "TgrBsFAK1Yz_"
   },
   "source": [
    "#### Продолжим обучение "
   ]
  },
  {
   "cell_type": "code",
   "execution_count": 32,
   "metadata": {
    "colab": {
     "base_uri": "https://localhost:8080/",
     "height": 69
    },
    "colab_type": "code",
    "id": "hN3bDtvQ-pdE",
    "outputId": "79c7321b-1f27-475c-8127-54db46626ac9"
   },
   "outputs": [
    {
     "name": "stdout",
     "output_type": "stream",
     "text": [
      "Wait for 8 seconds...\n",
      "TensorBoard link:\n",
      "http://b2a0b755.ngrok.io\n"
     ]
    }
   ],
   "source": [
    "tbc=TensorBoardColab()"
   ]
  },
  {
   "cell_type": "code",
   "execution_count": 34,
   "metadata": {
    "colab": {
     "base_uri": "https://localhost:8080/",
     "height": 503
    },
    "colab_type": "code",
    "id": "YSYddjQ_0o-b",
    "outputId": "de6c009e-7c1f-4aa4-fcd8-e1d690282e37"
   },
   "outputs": [
    {
     "name": "stdout",
     "output_type": "stream",
     "text": [
      "x_train shape: (50000, 32, 32, 3)\n",
      "50000 train samples\n",
      "10000 test samples\n",
      "Using real-time data augmentation.\n",
      "Epoch 1/10\n",
      "1563/1563 [==============================] - 51s 33ms/step - loss: 0.6330 - acc: 0.7815 - val_loss: 0.5647 - val_acc: 0.8056\n",
      "Epoch 2/10\n",
      "1563/1563 [==============================] - 51s 32ms/step - loss: 0.6274 - acc: 0.7817 - val_loss: 0.5686 - val_acc: 0.8041\n",
      "Epoch 3/10\n",
      "1563/1563 [==============================] - 51s 32ms/step - loss: 0.6211 - acc: 0.7840 - val_loss: 0.5571 - val_acc: 0.8100\n",
      "Epoch 4/10\n",
      "1563/1563 [==============================] - 50s 32ms/step - loss: 0.6100 - acc: 0.7871 - val_loss: 0.5691 - val_acc: 0.8050\n",
      "Epoch 5/10\n",
      "1563/1563 [==============================] - 51s 32ms/step - loss: 0.6088 - acc: 0.7893 - val_loss: 0.5691 - val_acc: 0.8037\n",
      "Epoch 6/10\n",
      "1563/1563 [==============================] - 50s 32ms/step - loss: 0.6009 - acc: 0.7908 - val_loss: 0.5683 - val_acc: 0.8072\n",
      "Epoch 7/10\n",
      "1563/1563 [==============================] - 51s 32ms/step - loss: 0.5945 - acc: 0.7922 - val_loss: 0.5882 - val_acc: 0.7982\n",
      "Epoch 8/10\n",
      "1563/1563 [==============================] - 49s 32ms/step - loss: 0.5902 - acc: 0.7946 - val_loss: 0.5662 - val_acc: 0.8077\n",
      "Epoch 9/10\n",
      "1563/1563 [==============================] - 49s 32ms/step - loss: 0.5862 - acc: 0.7966 - val_loss: 0.5480 - val_acc: 0.8139\n",
      "Epoch 10/10\n",
      "1563/1563 [==============================] - 49s 32ms/step - loss: 0.5808 - acc: 0.7979 - val_loss: 0.5304 - val_acc: 0.8193\n",
      "Saved model to disk\n",
      "10000/10000 [==============================] - 2s 174us/step\n",
      "Test loss: 0.530378785943985\n",
      "Test accuracy: 0.8193\n"
     ]
    }
   ],
   "source": [
    "from __future__ import print_function\n",
    "import keras\n",
    "from keras.datasets import cifar10\n",
    "from keras.preprocessing.image import ImageDataGenerator\n",
    "from keras.models import Sequential\n",
    "from keras.callbacks import TensorBoard\n",
    "from keras.layers import Dense, Dropout, Activation, Flatten\n",
    "from keras.layers import Conv2D, MaxPooling2D\n",
    "import os\n",
    "\n",
    "batch_size = 32\n",
    "num_classes = 10\n",
    "epochs = 10\n",
    "data_augmentation = True\n",
    "num_predictions = 20\n",
    "model_name = 'model.h5'\n",
    "\n",
    "# The data, split between train and test sets:\n",
    "(x_train, y_train), (x_test, y_test) = cifar10.load_data()\n",
    "print('x_train shape:', x_train.shape)\n",
    "print(x_train.shape[0], 'train samples')\n",
    "print(x_test.shape[0], 'test samples')\n",
    "\n",
    "# Convert class vectors to binary class matrices.\n",
    "y_train = keras.utils.to_categorical(y_train, num_classes)\n",
    "y_test = keras.utils.to_categorical(y_test, num_classes)\n",
    "\n",
    "model = Sequential()\n",
    "model.add(Conv2D(32, (3, 3), padding='same',\n",
    "                 input_shape=x_train.shape[1:]))\n",
    "model.add(Activation('relu'))\n",
    "model.add(Conv2D(32, (3, 3)))\n",
    "model.add(Activation('relu'))\n",
    "model.add(MaxPooling2D(pool_size=(2, 2)))\n",
    "model.add(Dropout(0.25))\n",
    "\n",
    "model.add(Conv2D(64, (3, 3), padding='same'))\n",
    "model.add(Activation('relu'))\n",
    "model.add(Conv2D(64, (3, 3)))\n",
    "model.add(Activation('relu'))\n",
    "model.add(MaxPooling2D(pool_size=(2, 2)))\n",
    "model.add(Dropout(0.25))\n",
    "\n",
    "model.add(Flatten())\n",
    "model.add(Dense(512))\n",
    "model.add(Activation('relu'))\n",
    "model.add(Dropout(0.5))\n",
    "model.add(Dense(num_classes))\n",
    "model.add(Activation('softmax'))\n",
    "\n",
    "# initiate Adamax optimizer\n",
    "opt = keras.optimizers.Adamax(lr=0.001, beta_1=0.9, beta_2=0.999, epsilon=None, decay=0.0)\n",
    "\n",
    "# Let's train the model using RMSprop\n",
    "loaded_model.compile(loss='categorical_crossentropy',\n",
    "              optimizer=opt,\n",
    "              metrics=['accuracy'])\n",
    "\n",
    "x_train = x_train.astype('float32')\n",
    "x_test = x_test.astype('float32')\n",
    "x_train /= 255\n",
    "x_test /= 255\n",
    "\n",
    "if not data_augmentation:\n",
    "    print('Not using data augmentation.')\n",
    "    loaded_model.fit(x_train, y_train,\n",
    "              batch_size=batch_size,\n",
    "              epochs=epochs,\n",
    "              validation_data=(x_test, y_test),\n",
    "              shuffle=True)\n",
    "else:\n",
    "    print('Using real-time data augmentation.')\n",
    "    # This will do preprocessing and realtime data augmentation:\n",
    "    datagen = ImageDataGenerator(\n",
    "        featurewise_center=False,  # set input mean to 0 over the dataset\n",
    "        samplewise_center=False,  # set each sample mean to 0\n",
    "        featurewise_std_normalization=False,  # divide inputs by std of the dataset\n",
    "        samplewise_std_normalization=False,  # divide each input by its std\n",
    "        zca_whitening=False,  # apply ZCA whitening\n",
    "        rotation_range=0,  # randomly rotate images in the range (degrees, 0 to 180)\n",
    "        width_shift_range=0.1,  # randomly shift images horizontally (fraction of total width)\n",
    "        height_shift_range=0.1,  # randomly shift images vertically (fraction of total height)\n",
    "        horizontal_flip=True,  # randomly flip images\n",
    "        vertical_flip=False)  # randomly flip images\n",
    "\n",
    "    # Compute quantities required for feature-wise normalization\n",
    "    # (std, mean, and principal components if ZCA whitening is applied).\n",
    "    datagen.fit(x_train)\n",
    "\n",
    "    # Fit the model on the batches generated by datagen.flow().\n",
    "    loaded_model.fit_generator(datagen.flow(x_train, y_train,\n",
    "                                     batch_size=batch_size),\n",
    "                        epochs=epochs,\n",
    "                        validation_data=(x_test, y_test),\n",
    "                        workers=4,\n",
    "                       callbacks=[TensorBoardColabCallback(tbc)])\n",
    "\n",
    "# serialize model to YAML\n",
    "model_yaml = loaded_model.to_yaml()\n",
    "with open(\"model.yaml\", \"w\") as yaml_file:\n",
    "    yaml_file.write(model_yaml)\n",
    "# serialize weights to HDF5\n",
    "loaded_model.save_weights(\"model.h5\")\n",
    "print(\"Saved model to disk\")\n",
    "\n",
    "# Score trained model.\n",
    "scores = loaded_model.evaluate(x_test, y_test, verbose=1)\n",
    "print('Test loss:', scores[0])\n",
    "print('Test accuracy:', scores[1])"
   ]
  },
  {
   "cell_type": "markdown",
   "metadata": {},
   "source": [
    "#### После двухкратных итераций обучения по 10 эпох"
   ]
  },
  {
   "cell_type": "code",
   "execution_count": 8,
   "metadata": {},
   "outputs": [
    {
     "data": {
      "image/jpeg": "[encoded data removed]",
      "text/plain": [
       "<IPython.core.display.Image object>"
      ]
     },
     "execution_count": 8,
     "metadata": {},
     "output_type": "execute_result"
    }
   ],
   "source": [
    "from IPython.display import Image\n",
    "Image(filename='2.2.jpg')"
   ]
  },
  {
   "cell_type": "markdown",
   "metadata": {
    "colab_type": "text",
    "id": "iGXi5wCZFzr1"
   },
   "source": [
    "#### В этом случае, мы сохранили модель в формате YAML:\n",
    "\n",
    "Этот пример аналогичен приведенному выше примеру JSON, за исключением того, что формат YAML используется для спецификации модели.\n",
    "\n",
    "Модель описывается с помощью YAML, сохраненной в файле model.yaml, а затем загружается в новую модель с помощью функции model_from_yaml (). Весы обрабатываются так же, как указано выше, в формате HDF5, как model.h5.\n",
    "\n",
    "Пример: \n",
    "\n",
    "backend: theano\n",
    "class_name: Sequential\n",
    "config:\n",
    "- class_name: Dense\n",
    "  config:\n",
    "    activation: relu\n",
    "    activity_regularizer: null\n",
    "    batch_input_shape: !!python/tuple [null, 8]\n",
    "    bias_constraint: null\n",
    "    bias_initializer:\n",
    "      class_name: Zeros\n",
    "      config: {}\n",
    "    bias_regularizer: null\n",
    "    dtype: float32\n",
    "    kernel_constraint: null\n",
    "    kernel_initializer:\n",
    "      class_name: RandomUniform\n",
    "      config: {maxval: 0.05, minval: -0.05, seed: null}\n",
    "    kernel_regularizer: null\n",
    "    name: dense_1\n",
    "    trainable: true\n",
    "    units: 12\n",
    "    use_bias: true"
   ]
  },
  {
   "cell_type": "markdown",
   "metadata": {
    "colab_type": "text",
    "id": "0IHMQqNlGWdp"
   },
   "source": [
    "#### Так как мы работали с виртульной машиной на Google.Colab, то теперь нам нужно загрузить файлы с моделью на личный компьютер: "
   ]
  },
  {
   "cell_type": "code",
   "execution_count": 0,
   "metadata": {
    "colab": {},
    "colab_type": "code",
    "id": "zCj15106F0e0"
   },
   "outputs": [],
   "source": [
    "from google.colab import files\n"
   ]
  },
  {
   "cell_type": "code",
   "execution_count": 0,
   "metadata": {
    "colab": {},
    "colab_type": "code",
    "id": "sOc5_lW6G56u"
   },
   "outputs": [],
   "source": [
    "files.download(\"model.yaml\") \n",
    "files.download(\"model.h5\") "
   ]
  },
  {
   "cell_type": "markdown",
   "metadata": {
    "colab_type": "text",
    "id": "YSwH-g64HR6_"
   },
   "source": [
    "#### Вы также можете использовать model.save , чтобы сохранить модель Keras в один файл HDF5, который будет содержать:\n",
    "\n",
    "     архитектура модели, позволяющая воссоздать модель\n",
    "     веса модели\n",
    "     конфигурация обучения (потеря, оптимизатор)\n",
    "     состояние оптимизатора, позволяющее возобновить обучение именно там, где вы остановились.\n",
    "   "
   ]
  },
  {
   "cell_type": "markdown",
   "metadata": {
    "colab_type": "text",
    "id": "CB1OD9_pOAW6"
   },
   "source": [
    "Пример:"
   ]
  },
  {
   "cell_type": "code",
   "execution_count": 0,
   "metadata": {
    "colab": {},
    "colab_type": "code",
    "id": "A62AQP_ZN-23"
   },
   "outputs": [],
   "source": [
    "from keras.models import load_model\n",
    "\n",
    "model.save('my_model.h5')  # creates a HDF5 file 'my_model.h5'\n",
    "del model  # deletes the existing model\n",
    "\n",
    "# returns a compiled model\n",
    "# identical to the previous one\n",
    "model = load_model('my_model.h5')"
   ]
  },
  {
   "cell_type": "markdown",
   "metadata": {
    "colab_type": "text",
    "id": "OOrU9nbTOGQL"
   },
   "source": [
    "Если вам нужно сохранить архитектуру модели, а не ее веса или ее конфигурацию обучения, вы можете сделать следующее:"
   ]
  },
  {
   "cell_type": "code",
   "execution_count": 0,
   "metadata": {
    "colab": {},
    "colab_type": "code",
    "id": "DwMDp2RROJuS"
   },
   "outputs": [],
   "source": [
    "# save as JSON\n",
    "json_string = model.to_json()\n",
    "\n",
    "# save as YAML\n",
    "yaml_string = model.to_yaml()"
   ]
  },
  {
   "cell_type": "markdown",
   "metadata": {
    "colab_type": "text",
    "id": "iHE6JbYuOX_P"
   },
   "source": [
    "Если вам нужно сохранить веса модели, вы можете сделать это в HDF5 с помощью кода ниже."
   ]
  },
  {
   "cell_type": "code",
   "execution_count": 0,
   "metadata": {
    "colab": {},
    "colab_type": "code",
    "id": "YGT1fWOwOMTT"
   },
   "outputs": [],
   "source": [
    "\"\"\"\n",
    "Assuming the original model looks like this:\n",
    "    model = Sequential()\n",
    "    model.add(Dense(2, input_dim=3, name='dense_1'))\n",
    "    model.add(Dense(3, name='dense_2'))\n",
    "    ...\n",
    "    model.save_weights(fname)\n",
    "\"\"\"\n",
    "\n",
    "# new model\n",
    "model = Sequential()\n",
    "model.add(Dense(2, input_dim=3, name='dense_1'))  # will be loaded\n",
    "model.add(Dense(10, name='new_dense'))  # will not be loaded\n",
    "\n",
    "# load weights from first model; will only affect the first layer, dense_1.\n",
    "model.load_weights(fname, by_name=True)"
   ]
  }
 ],
 "metadata": {
  "accelerator": "GPU",
  "colab": {
   "name": "saving_weights_and_model.ipynb",
   "provenance": [],
   "version": "0.3.2"
  },
  "kernelspec": {
   "display_name": "Python 2",
   "language": "python",
   "name": "python2"
  },
  "language_info": {
   "codemirror_mode": {
    "name": "ipython",
    "version": 2
   },
   "file_extension": ".py",
   "mimetype": "text/x-python",
   "name": "python",
   "nbconvert_exporter": "python",
   "pygments_lexer": "ipython2",
   "version": "2.7.12"
  }
 },
 "nbformat": 4,
 "nbformat_minor": 1
}
