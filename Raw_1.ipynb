{
  "nbformat": 4,
  "nbformat_minor": 0,
  "metadata": {
    "colab": {
      "name": "Raw_1.ipynb",
      "version": "0.3.2",
      "provenance": []
    },
    "kernelspec": {
      "name": "python2",
      "display_name": "Python 2"
    },
    "accelerator": "GPU"
  },
  "cells": [
    {
      "metadata": {
        "id": "MSdKzfFTo62Q",
        "colab_type": "code",
        "colab": {}
      },
      "cell_type": "code",
      "source": [
        "from __future__ import print_function\n",
        "import keras\n",
        "from keras.datasets import cifar10\n",
        "from keras.preprocessing.image import ImageDataGenerator\n",
        "from keras.models import Sequential\n",
        "from keras.callbacks import TensorBoard\n",
        "from keras.layers import Dense, Dropout, Activation, Flatten\n",
        "from keras.layers import Conv2D, MaxPooling2D\n",
        "import os\n",
        "import math\n",
        "\n",
        "batch_size = 32\n",
        "num_classes = 10\n",
        "epochs = 100\n",
        "lrat = 0.002\n",
        "move = -1\n",
        "decay_rate = learning_rate / epochs\n",
        "#momentum = 0.8\n",
        "data_augmentation = True\n",
        "num_predictions = 20\n",
        "model_name = 'keras_cifar10_trained_model.h5'"
      ],
      "execution_count": 0,
      "outputs": []
    },
    {
      "metadata": {
        "id": "CQrLPr14BNWS",
        "colab_type": "code",
        "colab": {
          "base_uri": "https://localhost:8080/",
          "height": 34
        },
        "outputId": "7b918917-a3e0-49e6-affc-9bedf2b93334"
      },
      "cell_type": "code",
      "source": [
        "!pip install -U tensorboardcolab"
      ],
      "execution_count": 30,
      "outputs": [
        {
          "output_type": "stream",
          "text": [
            "Requirement already up-to-date: tensorboardcolab in /usr/local/lib/python2.7/dist-packages (0.0.19)\n"
          ],
          "name": "stdout"
        }
      ]
    },
    {
      "metadata": {
        "id": "8QDxBEJ7BYw5",
        "colab_type": "code",
        "colab": {}
      },
      "cell_type": "code",
      "source": [
        "from tensorboardcolab import *\n",
        "import tensorflow as tf"
      ],
      "execution_count": 0,
      "outputs": []
    },
    {
      "metadata": {
        "id": "suCTvEHvBZe7",
        "colab_type": "code",
        "colab": {
          "base_uri": "https://localhost:8080/",
          "height": 69
        },
        "outputId": "c1b6a895-0002-4b84-b7da-01c1ae719ad2"
      },
      "cell_type": "code",
      "source": [
        "tbc=TensorBoardColab()"
      ],
      "execution_count": 38,
      "outputs": [
        {
          "output_type": "stream",
          "text": [
            "Wait for 8 seconds...\n",
            "TensorBoard link:\n",
            "http://a5b74ae2.ngrok.io\n"
          ],
          "name": "stdout"
        }
      ]
    },
    {
      "metadata": {
        "id": "_5Le5oKM62jS",
        "colab_type": "code",
        "colab": {}
      },
      "cell_type": "code",
      "source": [
        "class LossHistory(keras.callbacks.Callback):\n",
        "  def on_train_begin(self, logs={}):\n",
        "    self.losses = []\n",
        "    self.lr = []\n",
        "    \n",
        "  def on_epoch_end(self, batch, logs={}):\n",
        "    self.losses.append(logs.get('loss'))\n",
        "    self.lr.append(step_decay(len(self.losses)))\n",
        "    \n",
        "  def step_decay(epoch): \n",
        "    drop = 0.0002\n",
        "    global lrat \n",
        "    global move\n",
        "    if lrat > 0.002:\n",
        "      move = -1\n",
        "    if lrat < 0.000001:\n",
        "      move = 1\n",
        "    if move == 1: \n",
        "      lrat = lrat + drop \n",
        "      print(lrat)\n",
        "    if move == -1:\n",
        "      lrat = lrat - drop \n",
        "      print(lrat)\n",
        "    return lrat\n",
        "  \n",
        "  def TensorBoardColabCallback(self):\n",
        "    self.tbc"
      ],
      "execution_count": 0,
      "outputs": []
    },
    {
      "metadata": {
        "id": "nfOcgeJS638a",
        "colab_type": "code",
        "colab": {
          "base_uri": "https://localhost:8080/",
          "height": 712
        },
        "outputId": "40917546-685b-4275-e6e8-022282c43f96"
      },
      "cell_type": "code",
      "source": [
        "# The data, split between train and test sets:\n",
        "(x_train, y_train), (x_test, y_test) = cifar10.load_data()\n",
        "print('x_train shape:', x_train.shape)\n",
        "print(x_train.shape[0], 'train samples')\n",
        "print(x_test.shape[0], 'test samples')\n",
        "\n",
        "# Convert class vectors to binary class matrices.\n",
        "y_train = keras.utils.to_categorical(y_train, num_classes)\n",
        "y_test = keras.utils.to_categorical(y_test, num_classes)\n",
        "\n",
        "model = Sequential()\n",
        "model.add(Conv2D(32, (3, 3), padding='same',\n",
        "                 input_shape=x_train.shape[1:]))\n",
        "model.add(Activation('relu'))\n",
        "model.add(Conv2D(32, (3, 3)))\n",
        "model.add(Activation('relu'))\n",
        "model.add(MaxPooling2D(pool_size=(2, 2)))\n",
        "model.add(Dropout(0.25))\n",
        "\n",
        "model.add(Conv2D(64, (3, 3), padding='same'))\n",
        "model.add(Activation('relu'))\n",
        "model.add(Conv2D(64, (3, 3)))\n",
        "model.add(Activation('relu'))\n",
        "model.add(MaxPooling2D(pool_size=(2, 2)))\n",
        "model.add(Dropout(0.25))\n",
        "\n",
        "model.add(Flatten())\n",
        "model.add(Dense(512))\n",
        "model.add(Activation('relu'))\n",
        "model.add(Dropout(0.5))\n",
        "model.add(Dense(num_classes))\n",
        "model.add(Activation('softmax'))\n",
        "\n",
        "# initiate Adamax optimizer due to the best results on this DataSet and Architecture\n",
        "opt = keras.optimizers.Adamax(lr=learning_rate, beta_1=0.9, beta_2=0.999, epsilon=None, decay=decay_rate)\n",
        "model.compile(loss='categorical_crossentropy',\n",
        "              optimizer=opt,\n",
        "              metrics=['accuracy'])\n",
        "\n",
        "x_train = x_train.astype('float32')\n",
        "x_test = x_test.astype('float32')\n",
        "x_train /= 255\n",
        "x_test /= 255\n",
        "\n",
        "\n",
        "\n",
        "# let's view history about our lr\n",
        "# lrate = keras.callbacks.LearningRateScheduler(step_decay)\n",
        "# callbacks_list = [lrate]\n",
        "history = LossHistory()\n",
        "\n",
        "\n",
        "if not data_augmentation:\n",
        "    print('Not using data augmentation.')\n",
        "    model.fit(x_train, y_train,\n",
        "              batch_size=batch_size,\n",
        "              epochs=epochs,\n",
        "              validation_data=(x_test, y_test),\n",
        "              shuffle=True)\n",
        "else:\n",
        "    print('Using real-time data augmentation.')\n",
        "    # This will do preprocessing and realtime data augmentation:\n",
        "    datagen = ImageDataGenerator(\n",
        "        featurewise_center=False,  # set input mean to 0 over the dataset\n",
        "        samplewise_center=False,  # set each sample mean to 0\n",
        "        featurewise_std_normalization=False,  # divide inputs by std of the dataset\n",
        "        samplewise_std_normalization=False,  # divide each input by its std\n",
        "        zca_whitening=False,  # apply ZCA whitening\n",
        "        rotation_range=0,  # randomly rotate images in the range (degrees, 0 to 180)\n",
        "        width_shift_range=0.1,  # randomly shift images horizontally (fraction of total width)\n",
        "        height_shift_range=0.1,  # randomly shift images vertically (fraction of total height)\n",
        "        horizontal_flip=True,  # randomly flip images\n",
        "        vertical_flip=False)  # randomly flip images\n",
        "\n",
        "    # Compute quantities required for feature-wise normalization\n",
        "    # (std, mean, and principal components if ZCA whitening is applied).\n",
        "    datagen.fit(x_train)\n",
        "\n",
        "    # Fit the model on the batches generated by datagen.flow().\n",
        "    history = model.fit_generator(datagen.flow(x_train, y_train,\n",
        "                                     batch_size=batch_size),\n",
        "                        epochs=epochs,\n",
        "                        validation_data=(x_test, y_test),\n",
        "                        workers=4,\n",
        "                        callbacks=[history], \n",
        "                        verbose=2)\n",
        "\n",
        "# Save model and weights\n",
        "# model_json = model.to_json()\n",
        "# with open(\"model.json\", \"w\") as json_file:\n",
        "  #  json_file.write(model_json)\n",
        "#model.save_weights(\"model.h5\")\n",
        "#print(\"Saved model to disk\")\n",
        "\n",
        "# Score trained model.\n",
        "scores = model.evaluate(x_test, y_test, verbose=1)\n",
        "print('Test loss:', scores[0])\n",
        "print('Test accuracy:', scores[1])\n",
        "print(history.losses)\n",
        "print('-----------------')\n",
        "print(history.lr)"
      ],
      "execution_count": 0,
      "outputs": [
        {
          "output_type": "stream",
          "text": [
            "x_train shape: (50000, 32, 32, 3)\n",
            "50000 train samples\n",
            "10000 test samples\n",
            "Using real-time data augmentation.\n",
            "Epoch 1/100\n",
            " - 47s - loss: 1.6482 - acc: 0.3937 - val_loss: 1.2816 - val_acc: 0.5300\n",
            "0.0018\n",
            "Epoch 2/100\n",
            " - 46s - loss: 1.3220 - acc: 0.5270 - val_loss: 1.0657 - val_acc: 0.6197\n",
            "0.0016\n",
            "Epoch 3/100\n",
            " - 45s - loss: 1.1611 - acc: 0.5846 - val_loss: 0.9870 - val_acc: 0.6501\n",
            "0.0014\n",
            "Epoch 4/100\n",
            " - 45s - loss: 1.0604 - acc: 0.6254 - val_loss: 0.8286 - val_acc: 0.7110\n",
            "0.0012\n",
            "Epoch 5/100\n",
            " - 47s - loss: 0.9739 - acc: 0.6568 - val_loss: 0.8365 - val_acc: 0.7064\n",
            "0.001\n",
            "Epoch 6/100\n",
            " - 47s - loss: 0.9253 - acc: 0.6742 - val_loss: 0.8153 - val_acc: 0.7166\n",
            "0.0008\n",
            "Epoch 7/100\n",
            " - 46s - loss: 0.8818 - acc: 0.6902 - val_loss: 0.7354 - val_acc: 0.7408\n",
            "0.0006\n",
            "Epoch 8/100\n",
            " - 47s - loss: 0.8424 - acc: 0.7062 - val_loss: 0.7536 - val_acc: 0.7384\n",
            "0.0004\n",
            "Epoch 9/100\n",
            " - 47s - loss: 0.8113 - acc: 0.7165 - val_loss: 0.6921 - val_acc: 0.7609\n",
            "0.0002\n",
            "Epoch 10/100\n",
            " - 47s - loss: 0.7868 - acc: 0.7235 - val_loss: 0.6711 - val_acc: 0.7661\n",
            "Epoch 11/100\n",
            " - 47s - loss: 0.7711 - acc: 0.7332 - val_loss: 0.6783 - val_acc: 0.7645\n",
            "-3.7947076037e-19\n",
            "Epoch 12/100\n",
            " - 46s - loss: 0.7511 - acc: 0.7377 - val_loss: 0.6513 - val_acc: 0.7732\n",
            "-0.0002\n",
            "Epoch 13/100\n"
          ],
          "name": "stdout"
        }
      ]
    }
  ]
}