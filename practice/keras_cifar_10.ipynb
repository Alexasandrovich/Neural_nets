{
  "nbformat": 4,
  "nbformat_minor": 0,
  "metadata": {
    "colab": {
      "name": "keras_cifar-10.ipynb",
      "version": "0.3.2",
      "views": {},
      "default_view": {},
      "provenance": [],
      "collapsed_sections": []
    },
    "kernelspec": {
      "name": "python3",
      "display_name": "Python 3"
    }
  },
  "cells": [
    {
      "metadata": {
        "id": "ddQl3dJdorcC",
        "colab_type": "code",
        "colab": {
          "autoexec": {
            "startup": false,
            "wait_interval": 0
          },
          "base_uri": "https://localhost:8080/",
          "height": 3641
        },
        "outputId": "886cd5bf-58e3-4018-98fc-7064d56ecd48",
        "executionInfo": {
          "status": "ok",
          "timestamp": 1528520409955,
          "user_tz": -180,
          "elapsed": 29793514,
          "user": {
            "displayName": "Александр Бычков",
            "photoUrl": "https://lh3.googleusercontent.com/a/default-user=s128",
            "userId": "110751129965550593274"
          }
        }
      },
      "cell_type": "code",
      "source": [
        "from __future__ import print_function\n",
        "import keras\n",
        "from keras.datasets import cifar10\n",
        "from keras.preprocessing.image import ImageDataGenerator\n",
        "from keras.models import Sequential\n",
        "from keras.callbacks import TensorBoard\n",
        "from keras.layers import Dense, Dropout, Activation, Flatten\n",
        "from keras.layers import Conv2D, MaxPooling2D\n",
        "import os\n",
        "\n",
        "batch_size = 32\n",
        "num_classes = 10\n",
        "epochs = 100\n",
        "data_augmentation = True\n",
        "num_predictions = 20\n",
        "save_dir = os.path.join(os.getcwd(), 'saved_models')\n",
        "model_name = 'keras_cifar10_trained_model.h5'\n",
        "\n",
        "# The data, split between train and test sets:\n",
        "(x_train, y_train), (x_test, y_test) = cifar10.load_data()\n",
        "print('x_train shape:', x_train.shape)\n",
        "print(x_train.shape[0], 'train samples')\n",
        "print(x_test.shape[0], 'test samples')\n",
        "\n",
        "# Convert class vectors to binary class matrices.\n",
        "y_train = keras.utils.to_categorical(y_train, num_classes)\n",
        "y_test = keras.utils.to_categorical(y_test, num_classes)\n",
        "\n",
        "model = Sequential()\n",
        "model.add(Conv2D(32, (3, 3), padding='same',\n",
        "                 input_shape=x_train.shape[1:]))\n",
        "model.add(Activation('relu'))\n",
        "model.add(Conv2D(32, (3, 3)))\n",
        "model.add(Activation('relu'))\n",
        "model.add(MaxPooling2D(pool_size=(2, 2)))\n",
        "model.add(Dropout(0.25))\n",
        "\n",
        "model.add(Conv2D(64, (3, 3), padding='same'))\n",
        "model.add(Activation('relu'))\n",
        "model.add(Conv2D(64, (3, 3)))\n",
        "model.add(Activation('relu'))\n",
        "model.add(MaxPooling2D(pool_size=(2, 2)))\n",
        "model.add(Dropout(0.25))\n",
        "\n",
        "model.add(Flatten())\n",
        "model.add(Dense(512))\n",
        "model.add(Activation('relu'))\n",
        "model.add(Dropout(0.5))\n",
        "model.add(Dense(num_classes))\n",
        "model.add(Activation('softmax'))\n",
        "\n",
        "# initiate RMSprop optimizer\n",
        "opt = keras.optimizers.rmsprop(lr=0.0001, decay=1e-6)\n",
        "\n",
        "# Let's train the model using RMSprop\n",
        "model.compile(loss='categorical_crossentropy',\n",
        "              optimizer=opt,\n",
        "              metrics=['accuracy'])\n",
        "\n",
        "x_train = x_train.astype('float32')\n",
        "x_test = x_test.astype('float32')\n",
        "x_train /= 255\n",
        "x_test /= 255\n",
        "\n",
        "#let's add visualisation with the help TensorBoard\n",
        "tbCallBack = keras.callbacks.TensorBoard(log_dir='Graph', histogram_freq=0,  \n",
        "          write_graph=True, write_images=True)\n",
        "tensorboard = TensorBoard(log_dir='./logs', histogram_freq=0,\n",
        "                          write_graph=True, write_images=False)\n",
        "\n",
        "if not data_augmentation:\n",
        "    print('Not using data augmentation.')\n",
        "    model.fit(x_train, y_train,\n",
        "              batch_size=batch_size,\n",
        "              epochs=epochs,\n",
        "              validation_data=(x_test, y_test),\n",
        "              shuffle=True)\n",
        "else:\n",
        "    print('Using real-time data augmentation.')\n",
        "    # This will do preprocessing and realtime data augmentation:\n",
        "    datagen = ImageDataGenerator(\n",
        "        featurewise_center=False,  # set input mean to 0 over the dataset\n",
        "        samplewise_center=False,  # set each sample mean to 0\n",
        "        featurewise_std_normalization=False,  # divide inputs by std of the dataset\n",
        "        samplewise_std_normalization=False,  # divide each input by its std\n",
        "        zca_whitening=False,  # apply ZCA whitening\n",
        "        rotation_range=0,  # randomly rotate images in the range (degrees, 0 to 180)\n",
        "        width_shift_range=0.1,  # randomly shift images horizontally (fraction of total width)\n",
        "        height_shift_range=0.1,  # randomly shift images vertically (fraction of total height)\n",
        "        horizontal_flip=True,  # randomly flip images\n",
        "        vertical_flip=False)  # randomly flip images\n",
        "\n",
        "    # Compute quantities required for feature-wise normalization\n",
        "    # (std, mean, and principal components if ZCA whitening is applied).\n",
        "    datagen.fit(x_train)\n",
        "\n",
        "    # Fit the model on the batches generated by datagen.flow().\n",
        "    model.fit_generator(datagen.flow(x_train, y_train,\n",
        "                                     batch_size=batch_size),\n",
        "                        epochs=epochs,\n",
        "                        validation_data=(x_test, y_test),\n",
        "                        workers=4,\n",
        "                       callbacks=[tensorboard])\n",
        "\n",
        "# Save model and weights\n",
        "if not os.path.isdir(save_dir):\n",
        "    os.makedirs(save_dir)\n",
        "model_path = os.path.join(save_dir, model_name)\n",
        "model.save(model_path)\n",
        "print('Saved trained model at %s ' % model_path)\n",
        "\n",
        "# Score trained model.\n",
        "scores = model.evaluate(x_test, y_test, verbose=1)\n",
        "print('Test loss:', scores[0])\n",
        "print('Test accuracy:', scores[1])"
      ],
      "execution_count": 1,
      "outputs": [
        {
          "output_type": "stream",
          "text": [
            "Using TensorFlow backend.\n"
          ],
          "name": "stderr"
        },
        {
          "output_type": "stream",
          "text": [
            "Downloading data from https://www.cs.toronto.edu/~kriz/cifar-10-python.tar.gz\n",
            "170500096/170498071 [==============================] - 36s 0us/step\n",
            "x_train shape: (50000, 32, 32, 3)\n",
            "50000 train samples\n",
            "10000 test samples\n",
            "Using real-time data augmentation.\n",
            "WARNING:tensorflow:Variable *= will be deprecated. Use variable.assign_mul if you want assignment to the variable value or 'x = x * y' if you want a new python Tensor object.\n",
            "Epoch 1/100\n",
            "  16/1563 [..............................] - ETA: 5:15 - loss: 2.3215 - acc: 0.0684"
          ],
          "name": "stdout"
        },
        {
          "output_type": "stream",
          "text": [
            "1562/1563 [============================>.] - ETA: 0s - loss: 1.8994 - acc: 0.3005"
          ],
          "name": "stdout"
        },
        {
          "output_type": "stream",
          "text": [
            "1563/1563 [==============================] - 299s 191ms/step - loss: 1.8991 - acc: 0.3005 - val_loss: 1.6321 - val_acc: 0.4104\n",
            "Epoch 2/100\n",
            " 449/1563 [=======>......................] - ETA: 3:24 - loss: 1.6735 - acc: 0.3861"
          ],
          "name": "stdout"
        },
        {
          "output_type": "stream",
          "text": [
            "1563/1563 [==============================] - 300s 192ms/step - loss: 1.6138 - acc: 0.4120 - val_loss: 1.4035 - val_acc: 0.4937\n",
            "Epoch 3/100\n",
            "  35/1563 [..............................] - ETA: 4:42 - loss: 1.5160 - acc: 0.4429"
          ],
          "name": "stdout"
        },
        {
          "output_type": "stream",
          "text": [
            "1562/1563 [============================>.] - ETA: 0s - loss: 1.4870 - acc: 0.4622"
          ],
          "name": "stdout"
        },
        {
          "output_type": "stream",
          "text": [
            "1563/1563 [==============================] - 301s 192ms/step - loss: 1.4870 - acc: 0.4623 - val_loss: 1.3070 - val_acc: 0.5337\n",
            "Epoch 4/100\n",
            " 449/1563 [=======>......................] - ETA: 3:24 - loss: 1.4204 - acc: 0.4864"
          ],
          "name": "stdout"
        },
        {
          "output_type": "stream",
          "text": [
            "1563/1563 [==============================] - 300s 192ms/step - loss: 1.4072 - acc: 0.4918 - val_loss: 1.2811 - val_acc: 0.5374\n",
            "Epoch 5/100\n",
            "  34/1563 [..............................] - ETA: 4:37 - loss: 1.3768 - acc: 0.5175"
          ],
          "name": "stdout"
        },
        {
          "output_type": "stream",
          "text": [
            "1562/1563 [============================>.] - ETA: 0s - loss: 1.3488 - acc: 0.5151"
          ],
          "name": "stdout"
        },
        {
          "output_type": "stream",
          "text": [
            "1563/1563 [==============================] - 299s 191ms/step - loss: 1.3487 - acc: 0.5151 - val_loss: 1.2098 - val_acc: 0.5664\n",
            "Epoch 6/100\n",
            " 449/1563 [=======>......................] - ETA: 3:24 - loss: 1.3219 - acc: 0.5256"
          ],
          "name": "stdout"
        },
        {
          "output_type": "stream",
          "text": [
            "1563/1563 [==============================] - 299s 191ms/step - loss: 1.2989 - acc: 0.5355 - val_loss: 1.1242 - val_acc: 0.5995\n",
            "Epoch 7/100\n",
            "  35/1563 [..............................] - ETA: 4:38 - loss: 1.2247 - acc: 0.5670"
          ],
          "name": "stdout"
        },
        {
          "output_type": "stream",
          "text": [
            "1562/1563 [============================>.] - ETA: 0s - loss: 1.2493 - acc: 0.5571"
          ],
          "name": "stdout"
        },
        {
          "output_type": "stream",
          "text": [
            "1563/1563 [==============================] - 299s 191ms/step - loss: 1.2493 - acc: 0.5571 - val_loss: 1.0849 - val_acc: 0.6137\n",
            "Epoch 8/100\n",
            " 449/1563 [=======>......................] - ETA: 3:22 - loss: 1.2121 - acc: 0.5665"
          ],
          "name": "stdout"
        },
        {
          "output_type": "stream",
          "text": [
            "1563/1563 [==============================] - 298s 191ms/step - loss: 1.2077 - acc: 0.5701 - val_loss: 1.0600 - val_acc: 0.6248\n",
            "Epoch 9/100\n",
            "  35/1563 [..............................] - ETA: 4:37 - loss: 1.1921 - acc: 0.5848"
          ],
          "name": "stdout"
        },
        {
          "output_type": "stream",
          "text": [
            "1562/1563 [============================>.] - ETA: 0s - loss: 1.1757 - acc: 0.5838"
          ],
          "name": "stdout"
        },
        {
          "output_type": "stream",
          "text": [
            "1563/1563 [==============================] - 298s 191ms/step - loss: 1.1758 - acc: 0.5837 - val_loss: 1.0653 - val_acc: 0.6208\n",
            "Epoch 10/100\n",
            " 447/1563 [=======>......................] - ETA: 3:23 - loss: 1.1526 - acc: 0.5929"
          ],
          "name": "stdout"
        },
        {
          "output_type": "stream",
          "text": [
            "1563/1563 [==============================] - 299s 191ms/step - loss: 1.1382 - acc: 0.5964 - val_loss: 0.9951 - val_acc: 0.6460\n",
            "Epoch 11/100\n",
            "  34/1563 [..............................] - ETA: 4:37 - loss: 1.1742 - acc: 0.5882"
          ],
          "name": "stdout"
        },
        {
          "output_type": "stream",
          "text": [
            "1562/1563 [============================>.] - ETA: 0s - loss: 1.1174 - acc: 0.6047"
          ],
          "name": "stdout"
        },
        {
          "output_type": "stream",
          "text": [
            "1563/1563 [==============================] - 298s 191ms/step - loss: 1.1174 - acc: 0.6048 - val_loss: 1.0137 - val_acc: 0.6396\n",
            "Epoch 12/100\n",
            " 447/1563 [=======>......................] - ETA: 3:23 - loss: 1.0983 - acc: 0.6106"
          ],
          "name": "stdout"
        },
        {
          "output_type": "stream",
          "text": [
            "1563/1563 [==============================] - 297s 190ms/step - loss: 1.0903 - acc: 0.6152 - val_loss: 0.9510 - val_acc: 0.6687\n",
            "Epoch 13/100\n",
            "  34/1563 [..............................] - ETA: 4:36 - loss: 1.0432 - acc: 0.6443"
          ],
          "name": "stdout"
        },
        {
          "output_type": "stream",
          "text": [
            "1562/1563 [============================>.] - ETA: 0s - loss: 1.0732 - acc: 0.6224"
          ],
          "name": "stdout"
        },
        {
          "output_type": "stream",
          "text": [
            "1563/1563 [==============================] - 298s 190ms/step - loss: 1.0731 - acc: 0.6224 - val_loss: 0.9513 - val_acc: 0.6670\n",
            "Epoch 14/100\n",
            " 446/1563 [=======>......................] - ETA: 3:23 - loss: 1.0717 - acc: 0.6244"
          ],
          "name": "stdout"
        },
        {
          "output_type": "stream",
          "text": [
            "1563/1563 [==============================] - 297s 190ms/step - loss: 1.0549 - acc: 0.6301 - val_loss: 0.9376 - val_acc: 0.6714\n",
            "Epoch 15/100\n",
            "  33/1563 [..............................] - ETA: 4:39 - loss: 1.0583 - acc: 0.6335"
          ],
          "name": "stdout"
        },
        {
          "output_type": "stream",
          "text": [
            "1562/1563 [============================>.] - ETA: 0s - loss: 1.0337 - acc: 0.6372"
          ],
          "name": "stdout"
        },
        {
          "output_type": "stream",
          "text": [
            "1563/1563 [==============================] - 298s 191ms/step - loss: 1.0336 - acc: 0.6373 - val_loss: 0.9282 - val_acc: 0.6731\n",
            "Epoch 16/100\n",
            " 447/1563 [=======>......................] - ETA: 3:24 - loss: 1.0183 - acc: 0.6470"
          ],
          "name": "stdout"
        },
        {
          "output_type": "stream",
          "text": [
            "1563/1563 [==============================] - 298s 191ms/step - loss: 1.0211 - acc: 0.6442 - val_loss: 0.8798 - val_acc: 0.6911\n",
            "Epoch 17/100\n",
            "  34/1563 [..............................] - ETA: 4:36 - loss: 1.0267 - acc: 0.6507"
          ],
          "name": "stdout"
        },
        {
          "output_type": "stream",
          "text": [
            "1562/1563 [============================>.] - ETA: 0s - loss: 1.0118 - acc: 0.6495"
          ],
          "name": "stdout"
        },
        {
          "output_type": "stream",
          "text": [
            "1563/1563 [==============================] - 298s 191ms/step - loss: 1.0117 - acc: 0.6496 - val_loss: 0.8617 - val_acc: 0.6951\n",
            "Epoch 18/100\n",
            " 447/1563 [=======>......................] - ETA: 3:23 - loss: 1.0119 - acc: 0.6501"
          ],
          "name": "stdout"
        },
        {
          "output_type": "stream",
          "text": [
            "1563/1563 [==============================] - 299s 191ms/step - loss: 1.0058 - acc: 0.6495 - val_loss: 0.8821 - val_acc: 0.6897\n",
            "Epoch 19/100\n",
            "  34/1563 [..............................] - ETA: 4:37 - loss: 0.9945 - acc: 0.6691"
          ],
          "name": "stdout"
        },
        {
          "output_type": "stream",
          "text": [
            "1562/1563 [============================>.] - ETA: 0s - loss: 0.9899 - acc: 0.6549"
          ],
          "name": "stdout"
        },
        {
          "output_type": "stream",
          "text": [
            "1563/1563 [==============================] - 296s 190ms/step - loss: 0.9900 - acc: 0.6550 - val_loss: 0.8892 - val_acc: 0.6919\n",
            "Epoch 20/100\n",
            " 447/1563 [=======>......................] - ETA: 3:23 - loss: 0.9677 - acc: 0.6642"
          ],
          "name": "stdout"
        },
        {
          "output_type": "stream",
          "text": [
            "1563/1563 [==============================] - 298s 191ms/step - loss: 0.9783 - acc: 0.6606 - val_loss: 0.8761 - val_acc: 0.6942\n",
            "Epoch 21/100\n",
            "  34/1563 [..............................] - ETA: 4:38 - loss: 0.9565 - acc: 0.6719"
          ],
          "name": "stdout"
        },
        {
          "output_type": "stream",
          "text": [
            "1562/1563 [============================>.] - ETA: 0s - loss: 0.9706 - acc: 0.6637"
          ],
          "name": "stdout"
        },
        {
          "output_type": "stream",
          "text": [
            "1563/1563 [==============================] - 298s 190ms/step - loss: 0.9706 - acc: 0.6637 - val_loss: 0.8395 - val_acc: 0.7099\n",
            "Epoch 22/100\n",
            " 447/1563 [=======>......................] - ETA: 3:22 - loss: 0.9482 - acc: 0.6684"
          ],
          "name": "stdout"
        },
        {
          "output_type": "stream",
          "text": [
            "1563/1563 [==============================] - 297s 190ms/step - loss: 0.9529 - acc: 0.6704 - val_loss: 0.8930 - val_acc: 0.6963\n",
            "Epoch 23/100\n",
            "  34/1563 [..............................] - ETA: 4:35 - loss: 0.9282 - acc: 0.6829"
          ],
          "name": "stdout"
        },
        {
          "output_type": "stream",
          "text": [
            "1562/1563 [============================>.] - ETA: 0s - loss: 0.9531 - acc: 0.6713"
          ],
          "name": "stdout"
        },
        {
          "output_type": "stream",
          "text": [
            "1563/1563 [==============================] - 299s 191ms/step - loss: 0.9534 - acc: 0.6713 - val_loss: 0.8476 - val_acc: 0.7198\n",
            "Epoch 24/100\n",
            " 447/1563 [=======>......................] - ETA: 3:23 - loss: 0.9558 - acc: 0.6705"
          ],
          "name": "stdout"
        },
        {
          "output_type": "stream",
          "text": [
            "1563/1563 [==============================] - 297s 190ms/step - loss: 0.9440 - acc: 0.6743 - val_loss: 0.7941 - val_acc: 0.7288\n",
            "Epoch 25/100\n",
            "  34/1563 [..............................] - ETA: 4:37 - loss: 0.8982 - acc: 0.7068"
          ],
          "name": "stdout"
        },
        {
          "output_type": "stream",
          "text": [
            "1562/1563 [============================>.] - ETA: 0s - loss: 0.9334 - acc: 0.6805"
          ],
          "name": "stdout"
        },
        {
          "output_type": "stream",
          "text": [
            "1563/1563 [==============================] - 298s 190ms/step - loss: 0.9334 - acc: 0.6805 - val_loss: 0.8745 - val_acc: 0.7015\n",
            "Epoch 26/100\n",
            " 447/1563 [=======>......................] - ETA: 3:23 - loss: 0.9389 - acc: 0.6821"
          ],
          "name": "stdout"
        },
        {
          "output_type": "stream",
          "text": [
            "1563/1563 [==============================] - 298s 191ms/step - loss: 0.9365 - acc: 0.6792 - val_loss: 0.7693 - val_acc: 0.7360\n",
            "Epoch 27/100\n",
            "  34/1563 [..............................] - ETA: 4:37 - loss: 0.8820 - acc: 0.6985"
          ],
          "name": "stdout"
        },
        {
          "output_type": "stream",
          "text": [
            "1562/1563 [============================>.] - ETA: 0s - loss: 0.9231 - acc: 0.6827"
          ],
          "name": "stdout"
        },
        {
          "output_type": "stream",
          "text": [
            "1563/1563 [==============================] - 297s 190ms/step - loss: 0.9232 - acc: 0.6826 - val_loss: 0.8236 - val_acc: 0.7178\n",
            "Epoch 28/100\n",
            " 447/1563 [=======>......................] - ETA: 3:21 - loss: 0.9225 - acc: 0.6848"
          ],
          "name": "stdout"
        },
        {
          "output_type": "stream",
          "text": [
            "1563/1563 [==============================] - 297s 190ms/step - loss: 0.9216 - acc: 0.6838 - val_loss: 0.8337 - val_acc: 0.7180\n",
            "Epoch 29/100\n",
            "  34/1563 [..............................] - ETA: 4:36 - loss: 0.9287 - acc: 0.6875"
          ],
          "name": "stdout"
        },
        {
          "output_type": "stream",
          "text": [
            "1562/1563 [============================>.] - ETA: 0s - loss: 0.9173 - acc: 0.6857"
          ],
          "name": "stdout"
        },
        {
          "output_type": "stream",
          "text": [
            "1563/1563 [==============================] - 297s 190ms/step - loss: 0.9171 - acc: 0.6857 - val_loss: 0.8036 - val_acc: 0.7234\n",
            "Epoch 30/100\n",
            " 447/1563 [=======>......................] - ETA: 3:21 - loss: 0.9343 - acc: 0.6845"
          ],
          "name": "stdout"
        },
        {
          "output_type": "stream",
          "text": [
            "1563/1563 [==============================] - 296s 189ms/step - loss: 0.9180 - acc: 0.6887 - val_loss: 0.7605 - val_acc: 0.7412\n",
            "Epoch 31/100\n",
            "  34/1563 [..............................] - ETA: 4:35 - loss: 0.8859 - acc: 0.6976"
          ],
          "name": "stdout"
        },
        {
          "output_type": "stream",
          "text": [
            "1331/1563 [========================>.....] - ETA: 41s - loss: 0.9150 - acc: 0.6877"
          ],
          "name": "stdout"
        },
        {
          "output_type": "stream",
          "text": [
            "1563/1563 [==============================] - 297s 190ms/step - loss: 0.9141 - acc: 0.6884 - val_loss: 0.7734 - val_acc: 0.7340\n",
            "Epoch 32/100\n",
            " 361/1563 [=====>........................] - ETA: 3:37 - loss: 0.8956 - acc: 0.6964"
          ],
          "name": "stdout"
        },
        {
          "output_type": "stream",
          "text": [
            "1563/1563 [==============================] - 297s 190ms/step - loss: 0.9067 - acc: 0.6917 - val_loss: 0.8185 - val_acc: 0.7241\n",
            "Epoch 33/100\n",
            "   2/1563 [..............................] - ETA: 4:40 - loss: 1.1569 - acc: 0.6406"
          ],
          "name": "stdout"
        },
        {
          "output_type": "stream",
          "text": [
            "1562/1563 [============================>.] - ETA: 0s - loss: 0.9069 - acc: 0.6930"
          ],
          "name": "stdout"
        },
        {
          "output_type": "stream",
          "text": [
            "1563/1563 [==============================] - 295s 189ms/step - loss: 0.9069 - acc: 0.6929 - val_loss: 0.7667 - val_acc: 0.7462\n",
            "Epoch 34/100\n",
            " 446/1563 [=======>......................] - ETA: 3:22 - loss: 0.9003 - acc: 0.6946"
          ],
          "name": "stdout"
        },
        {
          "output_type": "stream",
          "text": [
            "1563/1563 [==============================] - 298s 191ms/step - loss: 0.9063 - acc: 0.6931 - val_loss: 0.7699 - val_acc: 0.7351\n",
            "Epoch 35/100\n",
            "  33/1563 [..............................] - ETA: 4:36 - loss: 0.8743 - acc: 0.7055"
          ],
          "name": "stdout"
        },
        {
          "output_type": "stream",
          "text": [
            "1562/1563 [============================>.] - ETA: 0s - loss: 0.9012 - acc: 0.6947"
          ],
          "name": "stdout"
        },
        {
          "output_type": "stream",
          "text": [
            "1563/1563 [==============================] - 296s 190ms/step - loss: 0.9010 - acc: 0.6948 - val_loss: 0.7656 - val_acc: 0.7421\n",
            "Epoch 36/100\n",
            " 447/1563 [=======>......................] - ETA: 3:21 - loss: 0.8868 - acc: 0.6978"
          ],
          "name": "stdout"
        },
        {
          "output_type": "stream",
          "text": [
            "1563/1563 [==============================] - 297s 190ms/step - loss: 0.8981 - acc: 0.6950 - val_loss: 0.7864 - val_acc: 0.7335\n",
            "Epoch 37/100\n",
            "  34/1563 [..............................] - ETA: 4:36 - loss: 0.8894 - acc: 0.6884"
          ],
          "name": "stdout"
        },
        {
          "output_type": "stream",
          "text": [
            "1562/1563 [============================>.] - ETA: 0s - loss: 0.9013 - acc: 0.6952"
          ],
          "name": "stdout"
        },
        {
          "output_type": "stream",
          "text": [
            "1563/1563 [==============================] - 297s 190ms/step - loss: 0.9012 - acc: 0.6952 - val_loss: 0.7908 - val_acc: 0.7317\n",
            "Epoch 38/100\n",
            " 447/1563 [=======>......................] - ETA: 3:21 - loss: 0.9146 - acc: 0.6913"
          ],
          "name": "stdout"
        },
        {
          "output_type": "stream",
          "text": [
            "1563/1563 [==============================] - 296s 189ms/step - loss: 0.9010 - acc: 0.6955 - val_loss: 0.8620 - val_acc: 0.7190\n",
            "Epoch 39/100\n",
            "  34/1563 [..............................] - ETA: 4:33 - loss: 0.8917 - acc: 0.6884"
          ],
          "name": "stdout"
        },
        {
          "output_type": "stream",
          "text": [
            "1562/1563 [============================>.] - ETA: 0s - loss: 0.8879 - acc: 0.6965"
          ],
          "name": "stdout"
        },
        {
          "output_type": "stream",
          "text": [
            "1563/1563 [==============================] - 295s 189ms/step - loss: 0.8879 - acc: 0.6966 - val_loss: 0.8415 - val_acc: 0.7127\n",
            "Epoch 40/100\n",
            " 447/1563 [=======>......................] - ETA: 3:20 - loss: 0.8797 - acc: 0.7012"
          ],
          "name": "stdout"
        },
        {
          "output_type": "stream",
          "text": [
            "1563/1563 [==============================] - 297s 190ms/step - loss: 0.8930 - acc: 0.7002 - val_loss: 0.8540 - val_acc: 0.7383\n",
            "Epoch 41/100\n",
            "  33/1563 [..............................] - ETA: 4:33 - loss: 0.8908 - acc: 0.7055"
          ],
          "name": "stdout"
        },
        {
          "output_type": "stream",
          "text": [
            "1562/1563 [============================>.] - ETA: 0s - loss: 0.8876 - acc: 0.6993"
          ],
          "name": "stdout"
        },
        {
          "output_type": "stream",
          "text": [
            "1563/1563 [==============================] - 296s 189ms/step - loss: 0.8877 - acc: 0.6993 - val_loss: 0.8685 - val_acc: 0.7065\n",
            "Epoch 42/100\n",
            " 447/1563 [=======>......................] - ETA: 3:21 - loss: 0.8723 - acc: 0.7027"
          ],
          "name": "stdout"
        },
        {
          "output_type": "stream",
          "text": [
            "1563/1563 [==============================] - 296s 189ms/step - loss: 0.8835 - acc: 0.7017 - val_loss: 0.7952 - val_acc: 0.7334\n",
            "Epoch 43/100\n",
            "  34/1563 [..............................] - ETA: 4:36 - loss: 0.8804 - acc: 0.6866"
          ],
          "name": "stdout"
        },
        {
          "output_type": "stream",
          "text": [
            "1562/1563 [============================>.] - ETA: 0s - loss: 0.8902 - acc: 0.7011"
          ],
          "name": "stdout"
        },
        {
          "output_type": "stream",
          "text": [
            "1563/1563 [==============================] - 298s 190ms/step - loss: 0.8902 - acc: 0.7011 - val_loss: 0.8323 - val_acc: 0.7420\n",
            "Epoch 44/100\n",
            " 447/1563 [=======>......................] - ETA: 3:22 - loss: 0.8866 - acc: 0.7034"
          ],
          "name": "stdout"
        },
        {
          "output_type": "stream",
          "text": [
            "1563/1563 [==============================] - 299s 191ms/step - loss: 0.8914 - acc: 0.6992 - val_loss: 0.7948 - val_acc: 0.7314\n",
            "Epoch 45/100\n",
            "  34/1563 [..............................] - ETA: 4:39 - loss: 0.9090 - acc: 0.7059"
          ],
          "name": "stdout"
        },
        {
          "output_type": "stream",
          "text": [
            "1562/1563 [============================>.] - ETA: 0s - loss: 0.8803 - acc: 0.7023"
          ],
          "name": "stdout"
        },
        {
          "output_type": "stream",
          "text": [
            "1563/1563 [==============================] - 297s 190ms/step - loss: 0.8801 - acc: 0.7023 - val_loss: 0.8791 - val_acc: 0.7061\n",
            "Epoch 46/100\n",
            " 447/1563 [=======>......................] - ETA: 3:22 - loss: 0.8887 - acc: 0.7037"
          ],
          "name": "stdout"
        },
        {
          "output_type": "stream",
          "text": [
            "1563/1563 [==============================] - 297s 190ms/step - loss: 0.8890 - acc: 0.7024 - val_loss: 0.7995 - val_acc: 0.7355\n",
            "Epoch 47/100\n",
            "  34/1563 [..............................] - ETA: 4:35 - loss: 0.8952 - acc: 0.7114"
          ],
          "name": "stdout"
        },
        {
          "output_type": "stream",
          "text": [
            "1562/1563 [============================>.] - ETA: 0s - loss: 0.8850 - acc: 0.7038"
          ],
          "name": "stdout"
        },
        {
          "output_type": "stream",
          "text": [
            "1563/1563 [==============================] - 296s 189ms/step - loss: 0.8851 - acc: 0.7038 - val_loss: 0.7804 - val_acc: 0.7434\n",
            "Epoch 48/100\n",
            " 447/1563 [=======>......................] - ETA: 3:20 - loss: 0.8839 - acc: 0.7016"
          ],
          "name": "stdout"
        },
        {
          "output_type": "stream",
          "text": [
            "1563/1563 [==============================] - 295s 189ms/step - loss: 0.8872 - acc: 0.7020 - val_loss: 0.7527 - val_acc: 0.7517\n",
            "Epoch 49/100\n",
            "  34/1563 [..............................] - ETA: 4:37 - loss: 0.8725 - acc: 0.7040"
          ],
          "name": "stdout"
        },
        {
          "output_type": "stream",
          "text": [
            "1562/1563 [============================>.] - ETA: 0s - loss: 0.8870 - acc: 0.6998"
          ],
          "name": "stdout"
        },
        {
          "output_type": "stream",
          "text": [
            "1563/1563 [==============================] - 296s 189ms/step - loss: 0.8869 - acc: 0.6998 - val_loss: 0.8954 - val_acc: 0.7069\n",
            "Epoch 50/100\n",
            " 447/1563 [=======>......................] - ETA: 3:21 - loss: 0.8859 - acc: 0.7015"
          ],
          "name": "stdout"
        },
        {
          "output_type": "stream",
          "text": [
            "1563/1563 [==============================] - 296s 190ms/step - loss: 0.8851 - acc: 0.7039 - val_loss: 0.8416 - val_acc: 0.7295\n",
            "Epoch 51/100\n",
            "  34/1563 [..............................] - ETA: 4:30 - loss: 0.9260 - acc: 0.6866"
          ],
          "name": "stdout"
        },
        {
          "output_type": "stream",
          "text": [
            "1562/1563 [============================>.] - ETA: 0s - loss: 0.8857 - acc: 0.7045"
          ],
          "name": "stdout"
        },
        {
          "output_type": "stream",
          "text": [
            "1563/1563 [==============================] - 295s 189ms/step - loss: 0.8857 - acc: 0.7045 - val_loss: 0.7654 - val_acc: 0.7524\n",
            "Epoch 52/100\n",
            " 447/1563 [=======>......................] - ETA: 3:21 - loss: 0.8957 - acc: 0.6999"
          ],
          "name": "stdout"
        },
        {
          "output_type": "stream",
          "text": [
            "1563/1563 [==============================] - 296s 189ms/step - loss: 0.8897 - acc: 0.7018 - val_loss: 0.8329 - val_acc: 0.7388\n",
            "Epoch 53/100\n",
            "  34/1563 [..............................] - ETA: 4:35 - loss: 0.8854 - acc: 0.7059"
          ],
          "name": "stdout"
        },
        {
          "output_type": "stream",
          "text": [
            "1373/1563 [=========================>....] - ETA: 34s - loss: 0.8924 - acc: 0.7022"
          ],
          "name": "stdout"
        },
        {
          "output_type": "stream",
          "text": [
            "1563/1563 [==============================] - 297s 190ms/step - loss: 0.8945 - acc: 0.7013 - val_loss: 0.8075 - val_acc: 0.7445\n",
            "Epoch 54/100\n",
            " 378/1563 [======>.......................] - ETA: 3:34 - loss: 0.8993 - acc: 0.7004"
          ],
          "name": "stdout"
        },
        {
          "output_type": "stream",
          "text": [
            "1563/1563 [==============================] - 296s 190ms/step - loss: 0.8898 - acc: 0.7011 - val_loss: 0.8144 - val_acc: 0.7476\n",
            "Epoch 55/100\n",
            "   8/1563 [..............................] - ETA: 4:38 - loss: 0.7868 - acc: 0.7305"
          ],
          "name": "stdout"
        },
        {
          "output_type": "stream",
          "text": [
            "1562/1563 [============================>.] - ETA: 0s - loss: 0.8901 - acc: 0.7021"
          ],
          "name": "stdout"
        },
        {
          "output_type": "stream",
          "text": [
            "1563/1563 [==============================] - 296s 190ms/step - loss: 0.8901 - acc: 0.7021 - val_loss: 0.7746 - val_acc: 0.7425\n",
            "Epoch 56/100\n",
            " 447/1563 [=======>......................] - ETA: 3:21 - loss: 0.8975 - acc: 0.7000"
          ],
          "name": "stdout"
        },
        {
          "output_type": "stream",
          "text": [
            "1563/1563 [==============================] - 296s 189ms/step - loss: 0.9006 - acc: 0.7001 - val_loss: 0.8122 - val_acc: 0.7429\n",
            "Epoch 57/100\n",
            "  34/1563 [..............................] - ETA: 4:35 - loss: 0.8494 - acc: 0.7151"
          ],
          "name": "stdout"
        },
        {
          "output_type": "stream",
          "text": [
            "1562/1563 [============================>.] - ETA: 0s - loss: 0.8906 - acc: 0.7006"
          ],
          "name": "stdout"
        },
        {
          "output_type": "stream",
          "text": [
            "1563/1563 [==============================] - 297s 190ms/step - loss: 0.8906 - acc: 0.7006 - val_loss: 0.8257 - val_acc: 0.7446\n",
            "Epoch 58/100\n",
            " 447/1563 [=======>......................] - ETA: 3:22 - loss: 0.8858 - acc: 0.7018"
          ],
          "name": "stdout"
        },
        {
          "output_type": "stream",
          "text": [
            "1563/1563 [==============================] - 296s 189ms/step - loss: 0.8903 - acc: 0.7019 - val_loss: 0.8509 - val_acc: 0.7448\n",
            "Epoch 59/100\n",
            "  34/1563 [..............................] - ETA: 4:34 - loss: 0.8744 - acc: 0.7096"
          ],
          "name": "stdout"
        },
        {
          "output_type": "stream",
          "text": [
            "1562/1563 [============================>.] - ETA: 0s - loss: 0.8904 - acc: 0.7043"
          ],
          "name": "stdout"
        },
        {
          "output_type": "stream",
          "text": [
            "1563/1563 [==============================] - 296s 189ms/step - loss: 0.8904 - acc: 0.7043 - val_loss: 0.8011 - val_acc: 0.7472\n",
            "Epoch 60/100\n",
            " 447/1563 [=======>......................] - ETA: 3:21 - loss: 0.8693 - acc: 0.7071"
          ],
          "name": "stdout"
        },
        {
          "output_type": "stream",
          "text": [
            "1563/1563 [==============================] - 296s 189ms/step - loss: 0.8905 - acc: 0.7026 - val_loss: 0.8531 - val_acc: 0.7244\n",
            "Epoch 61/100\n",
            "  34/1563 [..............................] - ETA: 4:35 - loss: 0.8898 - acc: 0.7022"
          ],
          "name": "stdout"
        },
        {
          "output_type": "stream",
          "text": [
            "1562/1563 [============================>.] - ETA: 0s - loss: 0.8974 - acc: 0.7006"
          ],
          "name": "stdout"
        },
        {
          "output_type": "stream",
          "text": [
            "1563/1563 [==============================] - 296s 189ms/step - loss: 0.8974 - acc: 0.7005 - val_loss: 0.8019 - val_acc: 0.7307\n",
            "Epoch 62/100\n",
            " 447/1563 [=======>......................] - ETA: 3:21 - loss: 0.8907 - acc: 0.7063"
          ],
          "name": "stdout"
        },
        {
          "output_type": "stream",
          "text": [
            "1563/1563 [==============================] - 295s 189ms/step - loss: 0.9014 - acc: 0.7006 - val_loss: 0.7784 - val_acc: 0.7413\n",
            "Epoch 63/100\n",
            "  34/1563 [..............................] - ETA: 4:33 - loss: 0.8599 - acc: 0.7206"
          ],
          "name": "stdout"
        },
        {
          "output_type": "stream",
          "text": [
            "1562/1563 [============================>.] - ETA: 0s - loss: 0.8960 - acc: 0.7032"
          ],
          "name": "stdout"
        },
        {
          "output_type": "stream",
          "text": [
            "1563/1563 [==============================] - 295s 189ms/step - loss: 0.8959 - acc: 0.7032 - val_loss: 0.8095 - val_acc: 0.7309\n",
            "Epoch 64/100\n",
            " 447/1563 [=======>......................] - ETA: 3:20 - loss: 0.9132 - acc: 0.6994"
          ],
          "name": "stdout"
        },
        {
          "output_type": "stream",
          "text": [
            "1563/1563 [==============================] - 296s 189ms/step - loss: 0.9020 - acc: 0.7012 - val_loss: 0.8378 - val_acc: 0.7258\n",
            "Epoch 65/100\n",
            "  34/1563 [..............................] - ETA: 4:37 - loss: 0.8889 - acc: 0.6976"
          ],
          "name": "stdout"
        },
        {
          "output_type": "stream",
          "text": [
            "1562/1563 [============================>.] - ETA: 0s - loss: 0.9047 - acc: 0.7019"
          ],
          "name": "stdout"
        },
        {
          "output_type": "stream",
          "text": [
            "1563/1563 [==============================] - 296s 190ms/step - loss: 0.9047 - acc: 0.7019 - val_loss: 0.7881 - val_acc: 0.7383\n",
            "Epoch 66/100\n",
            " 447/1563 [=======>......................] - ETA: 3:21 - loss: 0.9040 - acc: 0.7025"
          ],
          "name": "stdout"
        },
        {
          "output_type": "stream",
          "text": [
            "1563/1563 [==============================] - 296s 190ms/step - loss: 0.9068 - acc: 0.6977 - val_loss: 0.8272 - val_acc: 0.7318\n",
            "Epoch 67/100\n",
            "  34/1563 [..............................] - ETA: 4:36 - loss: 0.8491 - acc: 0.7132"
          ],
          "name": "stdout"
        },
        {
          "output_type": "stream",
          "text": [
            "1562/1563 [============================>.] - ETA: 0s - loss: 0.9118 - acc: 0.6965"
          ],
          "name": "stdout"
        },
        {
          "output_type": "stream",
          "text": [
            "1563/1563 [==============================] - 296s 189ms/step - loss: 0.9118 - acc: 0.6965 - val_loss: 0.8114 - val_acc: 0.7281\n",
            "Epoch 68/100\n",
            " 447/1563 [=======>......................] - ETA: 3:21 - loss: 0.9185 - acc: 0.7027"
          ],
          "name": "stdout"
        },
        {
          "output_type": "stream",
          "text": [
            "1563/1563 [==============================] - 296s 189ms/step - loss: 0.9187 - acc: 0.6996 - val_loss: 0.7780 - val_acc: 0.7410\n",
            "Epoch 69/100\n",
            "  34/1563 [..............................] - ETA: 4:32 - loss: 0.9210 - acc: 0.6967"
          ],
          "name": "stdout"
        },
        {
          "output_type": "stream",
          "text": [
            "1363/1563 [=========================>....] - ETA: 36s - loss: 0.9161 - acc: 0.6986"
          ],
          "name": "stdout"
        },
        {
          "output_type": "stream",
          "text": [
            "1563/1563 [==============================] - 296s 189ms/step - loss: 0.9202 - acc: 0.6972 - val_loss: 0.9146 - val_acc: 0.7000\n",
            "Epoch 70/100\n",
            " 374/1563 [======>.......................] - ETA: 3:34 - loss: 0.9256 - acc: 0.6985"
          ],
          "name": "stdout"
        },
        {
          "output_type": "stream",
          "text": [
            "1563/1563 [==============================] - 296s 189ms/step - loss: 0.9234 - acc: 0.6939 - val_loss: 0.7972 - val_acc: 0.7490\n",
            "Epoch 71/100\n",
            "   7/1563 [..............................] - ETA: 4:38 - loss: 0.8817 - acc: 0.7411"
          ],
          "name": "stdout"
        },
        {
          "output_type": "stream",
          "text": [
            "1562/1563 [============================>.] - ETA: 0s - loss: 0.9183 - acc: 0.6973"
          ],
          "name": "stdout"
        },
        {
          "output_type": "stream",
          "text": [
            "1563/1563 [==============================] - 297s 190ms/step - loss: 0.9184 - acc: 0.6972 - val_loss: 0.8077 - val_acc: 0.7325\n",
            "Epoch 72/100\n",
            " 447/1563 [=======>......................] - ETA: 3:22 - loss: 0.9320 - acc: 0.6940"
          ],
          "name": "stdout"
        },
        {
          "output_type": "stream",
          "text": [
            "1563/1563 [==============================] - 297s 190ms/step - loss: 0.9311 - acc: 0.6922 - val_loss: 0.8808 - val_acc: 0.7115\n",
            "Epoch 73/100\n",
            "  34/1563 [..............................] - ETA: 4:34 - loss: 0.9192 - acc: 0.7050"
          ],
          "name": "stdout"
        },
        {
          "output_type": "stream",
          "text": [
            "1562/1563 [============================>.] - ETA: 0s - loss: 0.9352 - acc: 0.6919"
          ],
          "name": "stdout"
        },
        {
          "output_type": "stream",
          "text": [
            "1563/1563 [==============================] - 297s 190ms/step - loss: 0.9351 - acc: 0.6919 - val_loss: 0.8430 - val_acc: 0.7125\n",
            "Epoch 74/100\n",
            " 447/1563 [=======>......................] - ETA: 3:22 - loss: 0.9301 - acc: 0.6953"
          ],
          "name": "stdout"
        },
        {
          "output_type": "stream",
          "text": [
            "1563/1563 [==============================] - 298s 191ms/step - loss: 0.9398 - acc: 0.6890 - val_loss: 0.7665 - val_acc: 0.7491\n",
            "Epoch 75/100\n",
            "  34/1563 [..............................] - ETA: 4:37 - loss: 0.8916 - acc: 0.6838"
          ],
          "name": "stdout"
        },
        {
          "output_type": "stream",
          "text": [
            "1562/1563 [============================>.] - ETA: 0s - loss: 0.9434 - acc: 0.6883"
          ],
          "name": "stdout"
        },
        {
          "output_type": "stream",
          "text": [
            "1563/1563 [==============================] - 298s 190ms/step - loss: 0.9435 - acc: 0.6883 - val_loss: 0.8224 - val_acc: 0.7410\n",
            "Epoch 76/100\n",
            " 447/1563 [=======>......................] - ETA: 3:22 - loss: 0.9656 - acc: 0.6800"
          ],
          "name": "stdout"
        },
        {
          "output_type": "stream",
          "text": [
            "1563/1563 [==============================] - 298s 191ms/step - loss: 0.9474 - acc: 0.6875 - val_loss: 0.7872 - val_acc: 0.7445\n",
            "Epoch 77/100\n",
            "  34/1563 [..............................] - ETA: 4:39 - loss: 0.9013 - acc: 0.6967"
          ],
          "name": "stdout"
        },
        {
          "output_type": "stream",
          "text": [
            "1562/1563 [============================>.] - ETA: 0s - loss: 0.9572 - acc: 0.6854"
          ],
          "name": "stdout"
        },
        {
          "output_type": "stream",
          "text": [
            "1563/1563 [==============================] - 298s 191ms/step - loss: 0.9575 - acc: 0.6854 - val_loss: 0.9213 - val_acc: 0.6972\n",
            "Epoch 78/100\n",
            " 447/1563 [=======>......................] - ETA: 3:23 - loss: 0.9644 - acc: 0.6816"
          ],
          "name": "stdout"
        },
        {
          "output_type": "stream",
          "text": [
            "1563/1563 [==============================] - 299s 191ms/step - loss: 0.9627 - acc: 0.6839 - val_loss: 0.8086 - val_acc: 0.7313\n",
            "Epoch 79/100\n",
            "  34/1563 [..............................] - ETA: 4:38 - loss: 0.9119 - acc: 0.6903"
          ],
          "name": "stdout"
        },
        {
          "output_type": "stream",
          "text": [
            "1562/1563 [============================>.] - ETA: 0s - loss: 0.9645 - acc: 0.6824"
          ],
          "name": "stdout"
        },
        {
          "output_type": "stream",
          "text": [
            "1563/1563 [==============================] - 300s 192ms/step - loss: 0.9646 - acc: 0.6823 - val_loss: 0.8467 - val_acc: 0.7203\n",
            "Epoch 80/100\n",
            " 447/1563 [=======>......................] - ETA: 3:24 - loss: 0.9717 - acc: 0.6849"
          ],
          "name": "stdout"
        },
        {
          "output_type": "stream",
          "text": [
            "1563/1563 [==============================] - 299s 191ms/step - loss: 0.9680 - acc: 0.6846 - val_loss: 0.8598 - val_acc: 0.7432\n",
            "Epoch 81/100\n",
            "  34/1563 [..............................] - ETA: 4:37 - loss: 0.9457 - acc: 0.6912"
          ],
          "name": "stdout"
        },
        {
          "output_type": "stream",
          "text": [
            "1562/1563 [============================>.] - ETA: 0s - loss: 0.9789 - acc: 0.6804"
          ],
          "name": "stdout"
        },
        {
          "output_type": "stream",
          "text": [
            "1563/1563 [==============================] - 299s 191ms/step - loss: 0.9789 - acc: 0.6803 - val_loss: 0.8795 - val_acc: 0.7241\n",
            "Epoch 82/100\n",
            " 447/1563 [=======>......................] - ETA: 3:23 - loss: 0.9622 - acc: 0.6837"
          ],
          "name": "stdout"
        },
        {
          "output_type": "stream",
          "text": [
            "1563/1563 [==============================] - 298s 191ms/step - loss: 0.9745 - acc: 0.6804 - val_loss: 0.8255 - val_acc: 0.7196\n",
            "Epoch 83/100\n",
            "  34/1563 [..............................] - ETA: 4:38 - loss: 1.0080 - acc: 0.6829"
          ],
          "name": "stdout"
        },
        {
          "output_type": "stream",
          "text": [
            "1532/1563 [============================>.] - ETA: 5s - loss: 0.9906 - acc: 0.6761"
          ],
          "name": "stdout"
        },
        {
          "output_type": "stream",
          "text": [
            "1563/1563 [==============================] - 298s 191ms/step - loss: 0.9913 - acc: 0.6763 - val_loss: 0.8709 - val_acc: 0.7036\n",
            "Epoch 84/100\n",
            " 436/1563 [=======>......................] - ETA: 3:25 - loss: 0.9885 - acc: 0.6794"
          ],
          "name": "stdout"
        },
        {
          "output_type": "stream",
          "text": [
            "1563/1563 [==============================] - 299s 191ms/step - loss: 0.9999 - acc: 0.6740 - val_loss: 0.9191 - val_acc: 0.7215\n",
            "Epoch 85/100\n",
            "  30/1563 [..............................] - ETA: 4:37 - loss: 1.0139 - acc: 0.6458"
          ],
          "name": "stdout"
        },
        {
          "output_type": "stream",
          "text": [
            "1562/1563 [============================>.] - ETA: 0s - loss: 1.0039 - acc: 0.6732"
          ],
          "name": "stdout"
        },
        {
          "output_type": "stream",
          "text": [
            "1563/1563 [==============================] - 298s 191ms/step - loss: 1.0041 - acc: 0.6731 - val_loss: 0.8671 - val_acc: 0.7158\n",
            "Epoch 86/100\n",
            " 447/1563 [=======>......................] - ETA: 3:23 - loss: 1.0081 - acc: 0.6728"
          ],
          "name": "stdout"
        },
        {
          "output_type": "stream",
          "text": [
            "1563/1563 [==============================] - 299s 191ms/step - loss: 1.0084 - acc: 0.6715 - val_loss: 0.9526 - val_acc: 0.6859\n",
            "Epoch 87/100\n",
            "  34/1563 [..............................] - ETA: 4:38 - loss: 1.0246 - acc: 0.6654"
          ],
          "name": "stdout"
        },
        {
          "output_type": "stream",
          "text": [
            "1562/1563 [============================>.] - ETA: 0s - loss: 1.0183 - acc: 0.6669"
          ],
          "name": "stdout"
        },
        {
          "output_type": "stream",
          "text": [
            "1563/1563 [==============================] - 297s 190ms/step - loss: 1.0185 - acc: 0.6668 - val_loss: 0.8932 - val_acc: 0.7023\n",
            "Epoch 88/100\n",
            " 447/1563 [=======>......................] - ETA: 3:21 - loss: 1.0068 - acc: 0.6741"
          ],
          "name": "stdout"
        },
        {
          "output_type": "stream",
          "text": [
            "1563/1563 [==============================] - 297s 190ms/step - loss: 1.0174 - acc: 0.6696 - val_loss: 0.9168 - val_acc: 0.7026\n",
            "Epoch 89/100\n",
            "  34/1563 [..............................] - ETA: 4:37 - loss: 1.0329 - acc: 0.6783"
          ],
          "name": "stdout"
        },
        {
          "output_type": "stream",
          "text": [
            "1562/1563 [============================>.] - ETA: 0s - loss: 1.0197 - acc: 0.6652"
          ],
          "name": "stdout"
        },
        {
          "output_type": "stream",
          "text": [
            "1563/1563 [==============================] - 298s 191ms/step - loss: 1.0199 - acc: 0.6651 - val_loss: 0.8453 - val_acc: 0.7397\n",
            "Epoch 90/100\n",
            " 447/1563 [=======>......................] - ETA: 3:23 - loss: 1.0237 - acc: 0.6658"
          ],
          "name": "stdout"
        },
        {
          "output_type": "stream",
          "text": [
            "1563/1563 [==============================] - 298s 191ms/step - loss: 1.0229 - acc: 0.6662 - val_loss: 0.8722 - val_acc: 0.7208\n",
            "Epoch 91/100\n",
            "  34/1563 [..............................] - ETA: 4:36 - loss: 0.9789 - acc: 0.6838"
          ],
          "name": "stdout"
        },
        {
          "output_type": "stream",
          "text": [
            "1562/1563 [============================>.] - ETA: 0s - loss: 1.0374 - acc: 0.6617"
          ],
          "name": "stdout"
        },
        {
          "output_type": "stream",
          "text": [
            "1563/1563 [==============================] - 298s 190ms/step - loss: 1.0375 - acc: 0.6617 - val_loss: 0.8920 - val_acc: 0.7078\n",
            "Epoch 92/100\n",
            " 446/1563 [=======>......................] - ETA: 3:25 - loss: 1.0324 - acc: 0.6641"
          ],
          "name": "stdout"
        },
        {
          "output_type": "stream",
          "text": [
            "1563/1563 [==============================] - 299s 191ms/step - loss: 1.0332 - acc: 0.6640 - val_loss: 0.9577 - val_acc: 0.6705\n",
            "Epoch 93/100\n",
            "  33/1563 [..............................] - ETA: 4:39 - loss: 1.0435 - acc: 0.6411"
          ],
          "name": "stdout"
        },
        {
          "output_type": "stream",
          "text": [
            "1562/1563 [============================>.] - ETA: 0s - loss: 1.0453 - acc: 0.6596"
          ],
          "name": "stdout"
        },
        {
          "output_type": "stream",
          "text": [
            "1563/1563 [==============================] - 298s 191ms/step - loss: 1.0454 - acc: 0.6595 - val_loss: 0.8865 - val_acc: 0.7049\n",
            "Epoch 94/100\n",
            " 447/1563 [=======>......................] - ETA: 3:22 - loss: 1.0334 - acc: 0.6641"
          ],
          "name": "stdout"
        },
        {
          "output_type": "stream",
          "text": [
            "1563/1563 [==============================] - 298s 191ms/step - loss: 1.0467 - acc: 0.6614 - val_loss: 0.9400 - val_acc: 0.6834\n",
            "Epoch 95/100\n",
            "  34/1563 [..............................] - ETA: 4:39 - loss: 1.0888 - acc: 0.6489"
          ],
          "name": "stdout"
        },
        {
          "output_type": "stream",
          "text": [
            "1562/1563 [============================>.] - ETA: 0s - loss: 1.0584 - acc: 0.6559"
          ],
          "name": "stdout"
        },
        {
          "output_type": "stream",
          "text": [
            "1563/1563 [==============================] - 298s 191ms/step - loss: 1.0583 - acc: 0.6559 - val_loss: 1.0350 - val_acc: 0.6473\n",
            "Epoch 96/100\n",
            " 447/1563 [=======>......................] - ETA: 3:22 - loss: 1.0462 - acc: 0.6595"
          ],
          "name": "stdout"
        },
        {
          "output_type": "stream",
          "text": [
            "1563/1563 [==============================] - 297s 190ms/step - loss: 1.0617 - acc: 0.6546 - val_loss: 0.9474 - val_acc: 0.6964\n",
            "Epoch 97/100\n",
            "  34/1563 [..............................] - ETA: 4:37 - loss: 1.0743 - acc: 0.6425"
          ],
          "name": "stdout"
        },
        {
          "output_type": "stream",
          "text": [
            "1562/1563 [============================>.] - ETA: 0s - loss: 1.0657 - acc: 0.6514"
          ],
          "name": "stdout"
        },
        {
          "output_type": "stream",
          "text": [
            "1563/1563 [==============================] - 298s 191ms/step - loss: 1.0654 - acc: 0.6514 - val_loss: 0.9688 - val_acc: 0.6692\n",
            "Epoch 98/100\n",
            " 447/1563 [=======>......................] - ETA: 3:22 - loss: 1.0708 - acc: 0.6526"
          ],
          "name": "stdout"
        },
        {
          "output_type": "stream",
          "text": [
            "1563/1563 [==============================] - 297s 190ms/step - loss: 1.0748 - acc: 0.6518 - val_loss: 0.9277 - val_acc: 0.6952\n",
            "Epoch 99/100\n",
            "  34/1563 [..............................] - ETA: 4:37 - loss: 1.1129 - acc: 0.6324"
          ],
          "name": "stdout"
        },
        {
          "output_type": "stream",
          "text": [
            "1562/1563 [============================>.] - ETA: 0s - loss: 1.0873 - acc: 0.6474"
          ],
          "name": "stdout"
        },
        {
          "output_type": "stream",
          "text": [
            "1563/1563 [==============================] - 297s 190ms/step - loss: 1.0870 - acc: 0.6474 - val_loss: 0.8632 - val_acc: 0.7252\n",
            "Epoch 100/100\n",
            " 445/1563 [=======>......................] - ETA: 3:22 - loss: 1.0853 - acc: 0.6468"
          ],
          "name": "stdout"
        },
        {
          "output_type": "stream",
          "text": [
            "1563/1563 [==============================] - 296s 190ms/step - loss: 1.0809 - acc: 0.6476 - val_loss: 0.9109 - val_acc: 0.6900\n",
            "Saved trained model at /content/saved_models/keras_cifar10_trained_model.h5 \n",
            " 1440/10000 [===>..........................] - ETA: 12s"
          ],
          "name": "stdout"
        },
        {
          "output_type": "stream",
          "text": [
            "10000/10000 [==============================] - 15s 2ms/step\n",
            "Test loss: 0.9108926626205445\n",
            "Test accuracy: 0.69\n"
          ],
          "name": "stdout"
        }
      ]
    }
  ]
}